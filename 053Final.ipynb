{
 "cells": [
  {
   "cell_type": "code",
   "execution_count": 1,
   "metadata": {},
   "outputs": [
    {
     "name": "stderr",
     "output_type": "stream",
     "text": [
      "┌ Warning: `with_optimizer` is deprecated. Adapt the following example to update your code:\n",
      "│ `with_optimizer(Ipopt.Optimizer)` becomes `Ipopt.Optimizer`.\n",
      "│   caller = top-level scope at In[1]:2\n",
      "└ @ Core In[1]:2\n"
     ]
    },
    {
     "data": {
      "text/latex": [
       "$$ \\begin{alignat*}{1}\\text{feasibility}\\\\\n",
       "\\text{Subject to} \\quad\\end{alignat*}\n",
       " $$"
      ],
      "text/plain": [
       "A JuMP Model\n",
       "Feasibility problem with:\n",
       "Variables: 0\n",
       "Model mode: AUTOMATIC\n",
       "CachingOptimizer state: EMPTY_OPTIMIZER\n",
       "Solver name: COIN Branch-and-Cut (Cbc)"
      ]
     },
     "execution_count": 1,
     "metadata": {},
     "output_type": "execute_result"
    }
   ],
   "source": [
    "using JuMP, Cbc\n",
    "o = Model(with_optimizer(Cbc.Optimizer))"
   ]
  },
  {
   "cell_type": "code",
   "execution_count": 2,
   "metadata": {},
   "outputs": [
    {
     "data": {
      "text/plain": [
       "13-element Array{Float64,1}:\n",
       " 281.7\n",
       " 422.0\n",
       " 423.0\n",
       " 376.8\n",
       " 377.8\n",
       " 518.1\n",
       " 528.0\n",
       " 529.0\n",
       " 549.6\n",
       " 858.5\n",
       " 859.5\n",
       " 860.5\n",
       " 861.5"
      ]
     },
     "execution_count": 2,
     "metadata": {},
     "output_type": "execute_result"
    }
   ],
   "source": [
    "#viewers in millions in hours 9:21\n",
    "v = [281.7\n",
    "422\n",
    "423\n",
    "376.8\n",
    "377.8\n",
    "518.1\n",
    "528\n",
    "529\n",
    "549.6\n",
    "858.5\n",
    "859.5\n",
    "860.5\n",
    "861.5]"
   ]
  },
  {
   "cell_type": "code",
   "execution_count": 3,
   "metadata": {},
   "outputs": [
    {
     "data": {
      "text/plain": [
       "2-dimensional DenseAxisArray{VariableRef,2,...} with index sets:\n",
       "    Dimension 1, Base.OneTo(2)\n",
       "    Dimension 2, 9:21\n",
       "And data, a 2×13 Array{VariableRef,2}:\n",
       " w_qual3[1,9]  w_qual3[1,10]  w_qual3[1,11]  …  w_qual3[1,20]  w_qual3[1,21]\n",
       " w_qual3[2,9]  w_qual3[2,10]  w_qual3[2,11]     w_qual3[2,20]  w_qual3[2,21]"
      ]
     },
     "execution_count": 3,
     "metadata": {},
     "output_type": "execute_result"
    }
   ],
   "source": [
    "# qualifications variables\n",
    "@variable(o, m_qual1[1:2, 9:21], Bin)      #men's qualification subdivision 1\n",
    "@variable(o, m_qual2[1:2, 9:21], Bin)      #men's qualification subdivision 2\n",
    "@variable(o, m_qual3[1:2, 9:21], Bin)      #men's qualification subdivision 3\n",
    "@variable(o, w_qual1[1:2, 9:21], Bin)      #women's qualification subdivision 1\n",
    "@variable(o, w_qual2[1:2, 9:21], Bin)      #women's qualification subdivision 2\n",
    "@variable(o, w_qual3[1:2, 9:21], Bin)      #women's qualification subdivision 3"
   ]
  },
  {
   "cell_type": "code",
   "execution_count": 4,
   "metadata": {},
   "outputs": [],
   "source": [
    "# QUALIFIERS\n",
    "\n",
    "#the events cannot take place at the same time\n",
    "for day in 1:2\n",
    "    for hour in 9:21\n",
    "        @constraint(o, sum(m_qual1[day, hour] + m_qual2[day, hour] + m_qual3[day, hour]) <= 1)\n",
    "        @constraint(o, sum(w_qual1[day, hour] + w_qual2[day, hour] + w_qual3[day, hour]) <= 1)\n",
    "    end\n",
    "end\n",
    "\n",
    "#make sure every event takes 2hrs, each gender is on a different day \n",
    "@variable(o, g, Bin)\n",
    "men_qual = [m_qual1, m_qual2, m_qual3]\n",
    "women_qual= [w_qual1, w_qual2, w_qual3]\n",
    "for event in men_qual\n",
    "    @constraint(o, sum(event[1,:]) == 2-2*g)\n",
    "    @constraint(o, sum(event[2,:]) == 2*g)\n",
    "end\n",
    "\n",
    "for event in women_qual\n",
    "    @constraint(o, sum(event[1,:]) == 2*g)\n",
    "    @constraint(o, sum(event[2,:]) == 2-2*g)\n",
    "end\n",
    "\n",
    "#events last 2 consecutive hours \n",
    "quals = [w_qual1, w_qual2, w_qual3, m_qual1, m_qual2, m_qual3]\n",
    "for event in quals\n",
    "    for h in 10:20\n",
    "        @constraint(o, sum(event[1, h+1] + event[1, h-1]) >= event[1, h])\n",
    "        @constraint(o, sum(event[2, h+1] + event[2, h-1]) >= event[2, h])\n",
    "    end\n",
    "    @constraint(o,event[1,9] <= event[1,10])\n",
    "    @constraint(o,event[1,21] <= event[1,20])\n",
    "    @constraint(o,event[2,9] <= event[2,10])\n",
    "    @constraint(o,event[2,21] <= event[2,20])\n",
    "end\n",
    "\n",
    "#need 2 hrs inbetween qualifiying rounds\n",
    "#men and women already on different days so this can be two seperate constraints\n",
    "for d in 1:2\n",
    "    for h in 9:18\n",
    "        @constraint(o, sum(m_qual1[d, h] + m_qual2[d, h] + m_qual3[d, h] + m_qual1[d, h+1] + m_qual2[d, h+1] + m_qual3[d, h+1] + m_qual1[d, h+2] + m_qual2[d, h+2] + m_qual3[d, h+2] + m_qual1[d, h+3] + m_qual2[d, h+3] + m_qual3[d, h+3]) <=2)\n",
    "        @constraint(o, sum(w_qual1[d, h] + w_qual2[d, h] + w_qual3[d, h] + w_qual1[d, h+1] + w_qual2[d, h+1] + w_qual3[d, h+1] + w_qual1[d, h+2] + w_qual2[d, h+2] + w_qual3[d, h+2] + w_qual1[d, h+3] + w_qual2[d, h+3] + w_qual3[d, h+3]) <=2)\n",
    "    end\n",
    "end"
   ]
  },
  {
   "cell_type": "code",
   "execution_count": 5,
   "metadata": {},
   "outputs": [],
   "source": [
    "#test the code above\n",
    "\n",
    "# objec = v'*(m_qual1[1,:])+v'*(m_qual1[2,:])+ v'*(m_qual2[1,:])+v'*(m_qual2[2,:])+ v'*(m_qual3[1,:])+v'*(m_qual3[2,:])\n",
    "# #womens qual\n",
    "# objec = objec + v'*(w_qual1[1,:])+v'*(w_qual1[2,:])+ v'*(w_qual2[1,:])+v'*(w_qual2[2,:])+ v'*(w_qual3[1,:])+v'*(w_qual3[2,:])\n",
    "\n",
    "# @objective(o, Max, objec)"
   ]
  },
  {
   "cell_type": "code",
   "execution_count": 6,
   "metadata": {},
   "outputs": [],
   "source": [
    "#optimize!(o)\n",
    "# @show JuMP.value.(m_qual3[:,:])\n",
    "# @show JuMP.value.(m_qual2[:,:])\n",
    "# @show JuMP.value.(m_qual1[:,:])\n",
    "# @show JuMP.value.(w_qual3[:,:])\n",
    "# @show JuMP.value.(w_qual2[:,:])\n",
    "# @show JuMP.value.(w_qual1[:,:])"
   ]
  },
  {
   "cell_type": "code",
   "execution_count": 7,
   "metadata": {},
   "outputs": [],
   "source": [
    "# TEAMS FINALS\n",
    "@variable(o, m_tf[4:5, 9:21], Bin)\n",
    "@variable(o, w_tf[4:5, 9:21], Bin)\n",
    "\n",
    "#team finals constraints\n",
    "# men and women on different days\n",
    "@variable(o, x, Bin)\n",
    "@constraint(o, sum(m_tf[4, :]) == 2*x)\n",
    "@constraint(o, sum(m_tf[5, :]) == 2-(2*x))\n",
    "@constraint(o, sum(w_tf[4, :]) == 2-(2*x))\n",
    "@constraint(o, sum(w_tf[5, :]) == 2*x)\n",
    "\n",
    "#events last 2 consecutive hours \n",
    "finals = [m_tf, w_tf]\n",
    "for event in finals\n",
    "    for h in 10:20\n",
    "        @constraint(o, sum(event[4, h+1] + event[4, h-1]) >= event[4, h])\n",
    "        @constraint(o, sum(event[5, h+1] + event[5, h-1]) >= event[5, h])\n",
    "    end\n",
    "    @constraint(o,event[4,9] <= event[4,10])\n",
    "    @constraint(o,event[4,21] <= event[4,20])\n",
    "    @constraint(o,event[5,9] <= event[5,10])\n",
    "    @constraint(o,event[5,21] <= event[5,20])\n",
    "end\n"
   ]
  },
  {
   "cell_type": "code",
   "execution_count": 8,
   "metadata": {},
   "outputs": [],
   "source": [
    "#only optimize teams finals(for testing purposes)\n",
    "#@objective(o, Max ,v'*m_tf[4,:]+v'*m_tf[5,:]+v'*w_tf[4,:]+v'*w_tf[5,:])"
   ]
  },
  {
   "cell_type": "code",
   "execution_count": 9,
   "metadata": {},
   "outputs": [],
   "source": [
    "#optimize!(o)\n",
    "\n",
    "#@show JuMP.value.(w_tf[:,:])\n"
   ]
  },
  {
   "cell_type": "code",
   "execution_count": 10,
   "metadata": {},
   "outputs": [],
   "source": [
    "# INDIVIDUAL ALL AROUND\n",
    "@variable(o, m_ar[6:7, 9:21], Bin)\n",
    "@variable(o, w_ar[6:7, 9:21], Bin)\n",
    "\n",
    "# men and women on different days\n",
    "@variable(o, d, Bin)\n",
    "@constraint(o, sum(m_ar[6, :]) == 3*d)\n",
    "@constraint(o, sum(m_ar[7, :]) == 3-(3*d))\n",
    "@constraint(o, sum(w_ar[6, :]) == 2-(2*d))\n",
    "@constraint(o, sum(w_ar[7, :]) == 2*d)\n",
    "\n",
    "#2 consecutive for women, 3 for men\n",
    "ar = [m_ar, w_ar]\n",
    "for event in ar\n",
    "    for h in 10:20\n",
    "        @constraint(o, sum(event[6, h+1] + event[6, h-1]) >= event[6, h])\n",
    "        @constraint(o, sum(event[7, h+1] + event[7, h-1]) >= event[7, h])\n",
    "    end\n",
    "    @constraint(o,event[6,9] <= event[6,10])\n",
    "    @constraint(o,event[6,21] <= event[6,20])\n",
    "    @constraint(o,event[7,9] <= event[7,10])\n",
    "    @constraint(o,event[7,21] <= event[7,20])\n",
    "end\n",
    "\n"
   ]
  },
  {
   "cell_type": "code",
   "execution_count": 11,
   "metadata": {},
   "outputs": [
    {
     "data": {
      "text/latex": [
       "$$ 281.7 m_ar_{6,9} + 422 m_ar_{6,10} + 423 m_ar_{6,11} + 376.8 m_ar_{6,12} + 377.8 m_ar_{6,13} + 518.1 m_ar_{6,14} + 528 m_ar_{6,15} + 529 m_ar_{6,16} + 549.6 m_ar_{6,17} + 858.5 m_ar_{6,18} + 859.5 m_ar_{6,19} + 860.5 m_ar_{6,20} + 861.5 m_ar_{6,21} + 281.7 m_ar_{7,9} + 422 m_ar_{7,10} + 423 m_ar_{7,11} + 376.8 m_ar_{7,12} + 377.8 m_ar_{7,13} + 518.1 m_ar_{7,14} + 528 m_ar_{7,15} + 529 m_ar_{7,16} + 549.6 m_ar_{7,17} + 858.5 m_ar_{7,18} + 859.5 m_ar_{7,19} + 860.5 m_ar_{7,20} + 861.5 m_ar_{7,21} + 281.7 w_ar_{6,9} + 422 w_ar_{6,10} + 423 w_ar_{6,11} + 376.8 w_ar_{6,12} + 377.8 w_ar_{6,13} + 518.1 w_ar_{6,14} + 528 w_ar_{6,15} + 529 w_ar_{6,16} + 549.6 w_ar_{6,17} + 858.5 w_ar_{6,18} + 859.5 w_ar_{6,19} + 860.5 w_ar_{6,20} + 861.5 w_ar_{6,21} + 281.7 w_ar_{7,9} + 422 w_ar_{7,10} + 423 w_ar_{7,11} + 376.8 w_ar_{7,12} + 377.8 w_ar_{7,13} + 518.1 w_ar_{7,14} + 528 w_ar_{7,15} + 529 w_ar_{7,16} + 549.6 w_ar_{7,17} + 858.5 w_ar_{7,18} + 859.5 w_ar_{7,19} + 860.5 w_ar_{7,20} + 861.5 w_ar_{7,21} $$"
      ],
      "text/plain": [
       "281.7 m_ar[6,9] + 422 m_ar[6,10] + 423 m_ar[6,11] + 376.8 m_ar[6,12] + 377.8 m_ar[6,13] + 518.1 m_ar[6,14] + 528 m_ar[6,15] + 529 m_ar[6,16] + 549.6 m_ar[6,17] + 858.5 m_ar[6,18] + 859.5 m_ar[6,19] + 860.5 m_ar[6,20] + 861.5 m_ar[6,21] + 281.7 m_ar[7,9] + 422 m_ar[7,10] + 423 m_ar[7,11] + 376.8 m_ar[7,12] + 377.8 m_ar[7,13] + 518.1 m_ar[7,14] + 528 m_ar[7,15] + 529 m_ar[7,16] + 549.6 m_ar[7,17] + 858.5 m_ar[7,18] + 859.5 m_ar[7,19] + 860.5 m_ar[7,20] + 861.5 m_ar[7,21] + 281.7 w_ar[6,9] + 422 w_ar[6,10] + 423 w_ar[6,11] + 376.8 w_ar[6,12] + 377.8 w_ar[6,13] + 518.1 w_ar[6,14] + 528 w_ar[6,15] + 529 w_ar[6,16] + 549.6 w_ar[6,17] + 858.5 w_ar[6,18] + 859.5 w_ar[6,19] + 860.5 w_ar[6,20] + 861.5 w_ar[6,21] + 281.7 w_ar[7,9] + 422 w_ar[7,10] + 423 w_ar[7,11] + 376.8 w_ar[7,12] + 377.8 w_ar[7,13] + 518.1 w_ar[7,14] + 528 w_ar[7,15] + 529 w_ar[7,16] + 549.6 w_ar[7,17] + 858.5 w_ar[7,18] + 859.5 w_ar[7,19] + 860.5 w_ar[7,20] + 861.5 w_ar[7,21]"
      ]
     },
     "execution_count": 11,
     "metadata": {},
     "output_type": "execute_result"
    }
   ],
   "source": [
    "objec = v'*m_ar[6,:]+v'*m_ar[7,:]+v'*w_ar[6,:]+v'*w_ar[7,:]\n",
    "@objective(o, Max, objec)"
   ]
  },
  {
   "cell_type": "code",
   "execution_count": 12,
   "metadata": {},
   "outputs": [
    {
     "name": "stdout",
     "output_type": "stream",
     "text": [
      "JuMP.value.(w_ar[:, :]) = 2-dimensional DenseAxisArray{Float64,2,...} with index sets:\n",
      "    Dimension 1, 6:7\n",
      "    Dimension 2, 9:21\n",
      "And data, a 2×13 Array{Float64,2}:\n",
      " 0.0  0.0  0.0  0.0  0.0  0.0  0.0  0.0  0.0  0.0  0.0  1.0  1.0\n",
      " 0.0  0.0  0.0  0.0  0.0  0.0  0.0  0.0  0.0  0.0  0.0  0.0  0.0\n",
      "JuMP.value.(m_ar[:, :]) = 2-dimensional DenseAxisArray{Float64,2,...} with index sets:\n",
      "    Dimension 1, 6:7\n",
      "    Dimension 2, 9:21\n",
      "And data, a 2×13 Array{Float64,2}:\n",
      " 0.0  0.0  0.0  0.0  0.0  0.0  0.0  0.0  0.0  0.0  0.0                 0.0                 0.0               \n",
      " 0.0  0.0  0.0  0.0  0.0  0.0  0.0  0.0  0.0  0.0  0.9999999999999999  0.9999999999999999  0.9999999999999999\n",
      "Welcome to the CBC MILP Solver \n",
      "Version: 2.10.3 \n",
      "Build Date: Oct  7 2019 \n",
      "\n",
      "command line - Cbc_C_Interface -solve -quit (default strategy 1)\n",
      "Continuous objective value is 4305 - 0.00 seconds\n",
      "Cgl0003I 0 fixed, 0 tightened bounds, 128 strengthened rows, 0 substitutions\n",
      "Cgl0003I 0 fixed, 0 tightened bounds, 92 strengthened rows, 0 substitutions\n",
      "Cgl0003I 0 fixed, 0 tightened bounds, 92 strengthened rows, 0 substitutions\n",
      "Cgl0003I 0 fixed, 0 tightened bounds, 16 strengthened rows, 0 substitutions\n",
      "Cgl0003I 0 fixed, 0 tightened bounds, 16 strengthened rows, 0 substitutions\n",
      "Cgl0003I 0 fixed, 0 tightened bounds, 19 strengthened rows, 0 substitutions\n",
      "Cgl0003I 0 fixed, 0 tightened bounds, 8 strengthened rows, 0 substitutions\n",
      "Cgl0003I 0 fixed, 0 tightened bounds, 8 strengthened rows, 0 substitutions\n",
      "Cgl0003I 0 fixed, 0 tightened bounds, 5 strengthened rows, 0 substitutions\n",
      "Cgl0004I processed model has 371 rows, 263 columns (263 integer (263 of which binary)) and 2031 elements\n",
      "Cbc0012I Integer solution of -4303.5 found by DiveCoefficient after 134 iterations and 0 nodes (0.20 seconds)\n",
      "Cbc0031I 9 added rows had average density of 40.555556\n",
      "Cbc0013I At root node, 9 cuts changed objective from -4305 to -4303.5 in 6 passes\n",
      "Cbc0014I Cut generator 0 (Probing) - 18 row cuts average 2.0 elements, 0 column cuts (0 active)  in 0.009 seconds - new frequency is 1\n",
      "Cbc0014I Cut generator 1 (Gomory) - 88 row cuts average 90.5 elements, 0 column cuts (0 active)  in 0.003 seconds - new frequency is 1\n",
      "Cbc0014I Cut generator 2 (Knapsack) - 3 row cuts average 5.3 elements, 0 column cuts (0 active)  in 0.009 seconds - new frequency is 1\n",
      "Cbc0014I Cut generator 3 (Clique) - 0 row cuts average 0.0 elements, 0 column cuts (0 active)  in 0.000 seconds - new frequency is -100\n",
      "Cbc0014I Cut generator 4 (MixedIntegerRounding2) - 0 row cuts average 0.0 elements, 0 column cuts (0 active)  in 0.001 seconds - new frequency is -100\n",
      "Cbc0014I Cut generator 5 (FlowCover) - 0 row cuts average 0.0 elements, 0 column cuts (0 active)  in 0.000 seconds - new frequency is -100\n",
      "Cbc0014I Cut generator 6 (TwoMirCuts) - 93 row cuts average 74.8 elements, 0 column cuts (0 active)  in 0.008 seconds - new frequency is -100\n",
      "Cbc0014I Cut generator 7 (ZeroHalf) - 6 row cuts average 9.8 elements, 0 column cuts (0 active)  in 0.044 seconds - new frequency is -100\n",
      "Cbc0001I Search completed - best objective -4303.5, took 134 iterations and 0 nodes (0.20 seconds)\n",
      "Cbc0035I Maximum depth 0, 0 variables fixed on reduced cost\n",
      "Cuts at root node changed objective from -4305 to -4303.5\n",
      "Probing was tried 6 times and created 18 cuts of which 0 were active after adding rounds of cuts (0.009 seconds)\n",
      "Gomory was tried 6 times and created 88 cuts of which 0 were active after adding rounds of cuts (0.003 seconds)\n",
      "Knapsack was tried 6 times and created 3 cuts of which 0 were active after adding rounds of cuts (0.009 seconds)\n",
      "Clique was tried 6 times and created 0 cuts of which 0 were active after adding rounds of cuts (0.000 seconds)\n",
      "MixedIntegerRounding2 was tried 6 times and created 0 cuts of which 0 were active after adding rounds of cuts (0.001 seconds)\n",
      "FlowCover was tried 6 times and created 0 cuts of which 0 were active after adding rounds of cuts (0.000 seconds)\n",
      "TwoMirCuts was tried 6 times and created 93 cuts of which 0 were active after adding rounds of cuts (0.008 seconds)\n",
      "ZeroHalf was tried 6 times and created 6 cuts of which 0 were active after adding rounds of cuts (0.044 seconds)\n",
      "\n",
      "Result - Optimal solution found\n",
      "\n",
      "Objective value:                4303.50000000\n",
      "Enumerated nodes:               0\n",
      "Total iterations:               134\n",
      "Time (CPU seconds):             0.20\n",
      "Time (Wallclock seconds):       0.28\n",
      "\n",
      "Total time (CPU seconds):       0.20   (Wallclock seconds):       0.28\n",
      "\n"
     ]
    },
    {
     "data": {
      "text/plain": [
       "2-dimensional DenseAxisArray{Float64,2,...} with index sets:\n",
       "    Dimension 1, 6:7\n",
       "    Dimension 2, 9:21\n",
       "And data, a 2×13 Array{Float64,2}:\n",
       " 0.0  0.0  0.0  0.0  0.0  0.0  0.0  0.0  0.0  0.0  0.0  0.0  0.0\n",
       " 0.0  0.0  0.0  0.0  0.0  0.0  0.0  0.0  0.0  0.0  1.0  1.0  1.0"
      ]
     },
     "execution_count": 12,
     "metadata": {},
     "output_type": "execute_result"
    }
   ],
   "source": [
    "optimize!(o)\n",
    "@show JuMP.value.(w_ar[:,:])\n",
    "@show JuMP.value.(m_ar[:,:])"
   ]
  },
  {
   "cell_type": "code",
   "execution_count": 13,
   "metadata": {},
   "outputs": [],
   "source": [
    "# specific events\n",
    "@variable(o, m_floor[9:11, 9:21], Bin)      # mens floor\n",
    "@variable(o, m_vault[9:11, 9:21], Bin)      # mens vault\n",
    "@variable(o, m_pb[9:11, 9:21], Bin)         # mens parallel bars\n",
    "@variable(o, m_pommel[9:11, 9:21], Bin)     # mens pommel horse\n",
    "@variable(o, m_rings[9:11, 9:21], Bin)      # mens rings\n",
    "@variable(o, m_horizontal[9:11, 9:21], Bin) #mens horizontal bar\n",
    "@variable(o, w_floor[9:11, 9:21], Bin)      # womens floor\n",
    "@variable(o, w_vault[9:11, 9:21], Bin)      # womens vault\n",
    "@variable(o, w_ub[9:11, 9:21], Bin)         # womens uneven bars\n",
    "@variable(o, w_b[9:11, 9:21], Bin)          # womens beam\n",
    "\n",
    "\n",
    "@constraint(o, sum(m_floor[9,i]+m_vault[9,i]+m_pb[9,i]+m_pommel[9,i]+m_rings[9,i]+m_horizontal[9,i]+ w_floor[9,i]+w_vault[9,i]+w_ub[9,i]+ w_b[9,i] for i in 9:21) >=3)\n",
    "@constraint(o, sum(m_floor[9,i]+m_vault[9,i]+m_pb[9,i]+m_pommel[9,i]+m_rings[9,i]+m_horizontal[9,i]+ w_floor[9,i]+w_vault[9,i]+w_ub[9,i]+ w_b[9,i] for i in 9:21) <=4)\n",
    "\n",
    "@constraint(o, sum(m_floor[10,i]+m_vault[10,i]+m_pb[10,i]+m_pommel[10,i]+m_rings[10,i]+m_horizontal[10,i]+ w_floor[10,i]+w_vault[10,i]+w_ub[10,i]+ w_b[10,i] for i in 9:21) >=3)\n",
    "@constraint(o, sum(m_floor[10,i]+m_vault[10,i]+m_pb[10,i]+m_pommel[10,i]+m_rings[10,i]+m_horizontal[10,i]+ w_floor[10,i]+w_vault[10,i]+w_ub[10,i]+ w_b[10,i] for i in 9:21) <=4)\n",
    "\n",
    "@constraint(o, sum(m_floor[11,i]+m_vault[11,i]+m_pb[11,i]+m_pommel[11,i]+m_rings[11,i]+m_horizontal[11,i]+ w_floor[11,i]+w_vault[11,i]+w_ub[11,i]+ w_b[11,i] for i in 9:21) >=3)\n",
    "@constraint(o, sum(m_floor[11,i]+m_vault[11,i]+m_pb[11,i]+m_pommel[11,i]+m_rings[11,i]+m_horizontal[11,i]+ w_floor[11,i]+w_vault[11,i]+w_ub[11,i]+ w_b[11,i] for i in 9:21) <=4)\n",
    "\n",
    "\n",
    "#at most two specific events can happen in an hour\n",
    "#for each day of specific events, the sum of events in an hour cannot be more than 2\n",
    "for i = 9:21\n",
    "    @constraint(o, (m_floor[9,i]+m_vault[9,i]+m_pb[9,i]+m_pommel[9,i]+m_horizontal[9,i]+ w_floor[9,i]+w_vault[9,i]+w_ub[9,i]+ w_b[9,i]) <=2)\n",
    "end\n",
    "\n",
    "for i = 9:21\n",
    "    @constraint(o, (m_floor[10,i]+m_vault[10,i]+m_pb[10,i]+m_pommel[10,i]+m_horizontal[10,i]+ w_floor[10,i]+w_vault[10,i]+w_ub[10,i]+ w_b[10,i]) <=2)\n",
    "end\n",
    "\n",
    "for i = 9:21\n",
    "    @constraint(o, (m_floor[11,i]+m_vault[11,i]+m_pb[11,i]+m_pommel[11,i]+m_horizontal[11,i]+ w_floor[11,i]+w_vault[11,i]+w_ub[11,i]+ w_b[11,i]) <=2)\n",
    "    end\n",
    "\n",
    "#if womens floor is happening, mens floor cannot be happening (there is only one floor)\n",
    "for i = 9:11\n",
    "    for j = 9:21\n",
    "        @constraint(o, (m_floor[i,j]+ w_floor[i,j] <=1))\n",
    "    end\n",
    "end\n",
    "\n",
    "#women's and men's events cannot be at the same time\n",
    "for day in 9:11\n",
    "    for hour in 9:21\n",
    "        @constraint(o, sum(w_floor[day, hour]+ w_vault[day, hour] + w_ub[day, hour] + w_b[day, hour]) <= 1)\n",
    "        @constraint(o, sum(m_floor[day, hour]+ m_vault[day, hour] + m_pommel[day, hour] + m_horizontal[day, hour] + m_pb[day, hour] + m_rings[day, hour]) <= 1)\n",
    "    end\n",
    "end\n"
   ]
  },
  {
   "cell_type": "code",
   "execution_count": 14,
   "metadata": {},
   "outputs": [
    {
     "data": {
      "text/latex": [
       "$$ 281.7 m_floor_{9,9} + 422 m_floor_{9,10} + 423 m_floor_{9,11} + 376.8 m_floor_{9,12} + 377.8 m_floor_{9,13} + 518.1 m_floor_{9,14} + 528 m_floor_{9,15} + 529 m_floor_{9,16} + 549.6 m_floor_{9,17} + 858.5 m_floor_{9,18} + 859.5 m_floor_{9,19} + 860.5 m_floor_{9,20} + 861.5 m_floor_{9,21} + 281.7 m_floor_{10,9} + 422 m_floor_{10,10} + 423 m_floor_{10,11} + 376.8 m_floor_{10,12} + 377.8 m_floor_{10,13} + 518.1 m_floor_{10,14} + 528 m_floor_{10,15} + 529 m_floor_{10,16} + 549.6 m_floor_{10,17} + 858.5 m_floor_{10,18} + 859.5 m_floor_{10,19} + 860.5 m_floor_{10,20} + 861.5 m_floor_{10,21} + 281.7 m_floor_{11,9} + 422 m_floor_{11,10} + 423 m_floor_{11,11} + 376.8 m_floor_{11,12} + 377.8 m_floor_{11,13} + 518.1 m_floor_{11,14} + 528 m_floor_{11,15} + 529 m_floor_{11,16} + 549.6 m_floor_{11,17} + 858.5 m_floor_{11,18} + 859.5 m_floor_{11,19} + 860.5 m_floor_{11,20} + 861.5 m_floor_{11,21} + 281.7 m_vault_{9,9} + 422 m_vault_{9,10} + 423 m_vault_{9,11} + 376.8 m_vault_{9,12} + 377.8 m_vault_{9,13} + 518.1 m_vault_{9,14} + 528 m_vault_{9,15} + 529 m_vault_{9,16} + 549.6 m_vault_{9,17} + 858.5 m_vault_{9,18} + 859.5 m_vault_{9,19} + 860.5 m_vault_{9,20} + 861.5 m_vault_{9,21} + 281.7 m_vault_{10,9} + 422 m_vault_{10,10} + 423 m_vault_{10,11} + 376.8 m_vault_{10,12} + 377.8 m_vault_{10,13} + 518.1 m_vault_{10,14} + 528 m_vault_{10,15} + 529 m_vault_{10,16} + 549.6 m_vault_{10,17} + 858.5 m_vault_{10,18} + 859.5 m_vault_{10,19} + 860.5 m_vault_{10,20} + 861.5 m_vault_{10,21} + 281.7 m_vault_{11,9} + 422 m_vault_{11,10} + 423 m_vault_{11,11} + 376.8 m_vault_{11,12} + 377.8 m_vault_{11,13} + 518.1 m_vault_{11,14} + 528 m_vault_{11,15} + 529 m_vault_{11,16} + 549.6 m_vault_{11,17} + 858.5 m_vault_{11,18} + 859.5 m_vault_{11,19} + 860.5 m_vault_{11,20} + 861.5 m_vault_{11,21} + 281.7 m_pb_{9,9} + 422 m_pb_{9,10} + 423 m_pb_{9,11} + 376.8 m_pb_{9,12} + 377.8 m_pb_{9,13} + 518.1 m_pb_{9,14} + 528 m_pb_{9,15} + 529 m_pb_{9,16} + 549.6 m_pb_{9,17} + 858.5 m_pb_{9,18} + 859.5 m_pb_{9,19} + 860.5 m_pb_{9,20} + 861.5 m_pb_{9,21} + 281.7 m_pb_{10,9} + 422 m_pb_{10,10} + 423 m_pb_{10,11} + 376.8 m_pb_{10,12} + 377.8 m_pb_{10,13} + 518.1 m_pb_{10,14} + 528 m_pb_{10,15} + 529 m_pb_{10,16} + 549.6 m_pb_{10,17} + 858.5 m_pb_{10,18} + 859.5 m_pb_{10,19} + 860.5 m_pb_{10,20} + 861.5 m_pb_{10,21} + 281.7 m_pb_{11,9} + 422 m_pb_{11,10} + 423 m_pb_{11,11} + 376.8 m_pb_{11,12} + 377.8 m_pb_{11,13} + 518.1 m_pb_{11,14} + 528 m_pb_{11,15} + 529 m_pb_{11,16} + 549.6 m_pb_{11,17} + 858.5 m_pb_{11,18} + 859.5 m_pb_{11,19} + 860.5 m_pb_{11,20} + 861.5 m_pb_{11,21} + 281.7 m_pommel_{9,9} + 422 m_pommel_{9,10} + 423 m_pommel_{9,11} + 376.8 m_pommel_{9,12} + 377.8 m_pommel_{9,13} + 518.1 m_pommel_{9,14} + 528 m_pommel_{9,15} + 529 m_pommel_{9,16} + 549.6 m_pommel_{9,17} + 858.5 m_pommel_{9,18} + 859.5 m_pommel_{9,19} + 860.5 m_pommel_{9,20} + 861.5 m_pommel_{9,21} + 281.7 m_pommel_{10,9} + 422 m_pommel_{10,10} + 423 m_pommel_{10,11} + 376.8 m_pommel_{10,12} + 377.8 m_pommel_{10,13} + 518.1 m_pommel_{10,14} + 528 m_pommel_{10,15} + 529 m_pommel_{10,16} + 549.6 m_pommel_{10,17} + 858.5 m_pommel_{10,18} + 859.5 m_pommel_{10,19} + 860.5 m_pommel_{10,20} + 861.5 m_pommel_{10,21} + 281.7 m_pommel_{11,9} + 422 m_pommel_{11,10} + 423 m_pommel_{11,11} + 376.8 m_pommel_{11,12} + 377.8 m_pommel_{11,13} + 518.1 m_pommel_{11,14} + 528 m_pommel_{11,15} + 529 m_pommel_{11,16} + 549.6 m_pommel_{11,17} + 858.5 m_pommel_{11,18} + 859.5 m_pommel_{11,19} + 860.5 m_pommel_{11,20} + 861.5 m_pommel_{11,21} + 281.7 m_horizontal_{9,9} + 422 m_horizontal_{9,10} + 423 m_horizontal_{9,11} + 376.8 m_horizontal_{9,12} + 377.8 m_horizontal_{9,13} + 518.1 m_horizontal_{9,14} + 528 m_horizontal_{9,15} + 529 m_horizontal_{9,16} + 549.6 m_horizontal_{9,17} + 858.5 m_horizontal_{9,18} + 859.5 m_horizontal_{9,19} + 860.5 m_horizontal_{9,20} + 861.5 m_horizontal_{9,21} + 281.7 m_horizontal_{10,9} + 422 m_horizontal_{10,10} + 423 m_horizontal_{10,11} + 376.8 m_horizontal_{10,12} + 377.8 m_horizontal_{10,13} + 518.1 m_horizontal_{10,14} + 528 m_horizontal_{10,15} + 529 m_horizontal_{10,16} + 549.6 m_horizontal_{10,17} + 858.5 m_horizontal_{10,18} + 859.5 m_horizontal_{10,19} + 860.5 m_horizontal_{10,20} + 861.5 m_horizontal_{10,21} + 281.7 m_horizontal_{11,9} + 422 m_horizontal_{11,10} + 423 m_horizontal_{11,11} + 376.8 m_horizontal_{11,12} + 377.8 m_horizontal_{11,13} + 518.1 m_horizontal_{11,14} + 528 m_horizontal_{11,15} + 529 m_horizontal_{11,16} + 549.6 m_horizontal_{11,17} + 858.5 m_horizontal_{11,18} + 859.5 m_horizontal_{11,19} + 860.5 m_horizontal_{11,20} + 861.5 m_horizontal_{11,21} + 281.7 m_rings_{9,9} + 422 m_rings_{9,10} + 423 m_rings_{9,11} + 376.8 m_rings_{9,12} + 377.8 m_rings_{9,13} + 518.1 m_rings_{9,14} + 528 m_rings_{9,15} + 529 m_rings_{9,16} + 549.6 m_rings_{9,17} + 858.5 m_rings_{9,18} + 859.5 m_rings_{9,19} + 860.5 m_rings_{9,20} + 861.5 m_rings_{9,21} + 281.7 m_rings_{10,9} + 422 m_rings_{10,10} + 423 m_rings_{10,11} + 376.8 m_rings_{10,12} + 377.8 m_rings_{10,13} + 518.1 m_rings_{10,14} + 528 m_rings_{10,15} + 529 m_rings_{10,16} + 549.6 m_rings_{10,17} + 858.5 m_rings_{10,18} + 859.5 m_rings_{10,19} + 860.5 m_rings_{10,20} + 861.5 m_rings_{10,21} + 281.7 m_rings_{11,9} + 422 m_rings_{11,10} + 423 m_rings_{11,11} + 376.8 m_rings_{11,12} + 377.8 m_rings_{11,13} + 518.1 m_rings_{11,14} + 528 m_rings_{11,15} + 529 m_rings_{11,16} + 549.6 m_rings_{11,17} + 858.5 m_rings_{11,18} + 859.5 m_rings_{11,19} + 860.5 m_rings_{11,20} + 861.5 m_rings_{11,21} + 281.7 w_floor_{9,9} + 422 w_floor_{9,10} + 423 w_floor_{9,11} + 376.8 w_floor_{9,12} + 377.8 w_floor_{9,13} + 518.1 w_floor_{9,14} + 528 w_floor_{9,15} + 529 w_floor_{9,16} + 549.6 w_floor_{9,17} + 858.5 w_floor_{9,18} + 859.5 w_floor_{9,19} + 860.5 w_floor_{9,20} + 861.5 w_floor_{9,21} + 281.7 w_floor_{10,9} + 422 w_floor_{10,10} + 423 w_floor_{10,11} + 376.8 w_floor_{10,12} + 377.8 w_floor_{10,13} + 518.1 w_floor_{10,14} + 528 w_floor_{10,15} + 529 w_floor_{10,16} + 549.6 w_floor_{10,17} + 858.5 w_floor_{10,18} + 859.5 w_floor_{10,19} + 860.5 w_floor_{10,20} + 861.5 w_floor_{10,21} + 281.7 w_floor_{11,9} + 422 w_floor_{11,10} + 423 w_floor_{11,11} + 376.8 w_floor_{11,12} + 377.8 w_floor_{11,13} + 518.1 w_floor_{11,14} + 528 w_floor_{11,15} + 529 w_floor_{11,16} + 549.6 w_floor_{11,17} + 858.5 w_floor_{11,18} + 859.5 w_floor_{11,19} + 860.5 w_floor_{11,20} + 861.5 w_floor_{11,21} + 281.7 w_vault_{9,9} + 422 w_vault_{9,10} + 423 w_vault_{9,11} + 376.8 w_vault_{9,12} + 377.8 w_vault_{9,13} + 518.1 w_vault_{9,14} + 528 w_vault_{9,15} + 529 w_vault_{9,16} + 549.6 w_vault_{9,17} + 858.5 w_vault_{9,18} + 859.5 w_vault_{9,19} + 860.5 w_vault_{9,20} + 861.5 w_vault_{9,21} + 281.7 w_vault_{10,9} + 422 w_vault_{10,10} + 423 w_vault_{10,11} + 376.8 w_vault_{10,12} + 377.8 w_vault_{10,13} + 518.1 w_vault_{10,14} + 528 w_vault_{10,15} + 529 w_vault_{10,16} + 549.6 w_vault_{10,17} + 858.5 w_vault_{10,18} + 859.5 w_vault_{10,19} + 860.5 w_vault_{10,20} + 861.5 w_vault_{10,21} + 281.7 w_vault_{11,9} + 422 w_vault_{11,10} + 423 w_vault_{11,11} + 376.8 w_vault_{11,12} + 377.8 w_vault_{11,13} + 518.1 w_vault_{11,14} + 528 w_vault_{11,15} + 529 w_vault_{11,16} + 549.6 w_vault_{11,17} + 858.5 w_vault_{11,18} + 859.5 w_vault_{11,19} + 860.5 w_vault_{11,20} + 861.5 w_vault_{11,21} + 281.7 w_ub_{9,9} + 422 w_ub_{9,10} + 423 w_ub_{9,11} + 376.8 w_ub_{9,12} + 377.8 w_ub_{9,13} + 518.1 w_ub_{9,14} + 528 w_ub_{9,15} + 529 w_ub_{9,16} + 549.6 w_ub_{9,17} + 858.5 w_ub_{9,18} + 859.5 w_ub_{9,19} + 860.5 w_ub_{9,20} + 861.5 w_ub_{9,21} + 281.7 w_ub_{10,9} + 422 w_ub_{10,10} + 423 w_ub_{10,11} + 376.8 w_ub_{10,12} + 377.8 w_ub_{10,13} + 518.1 w_ub_{10,14} + 528 w_ub_{10,15} + 529 w_ub_{10,16} + 549.6 w_ub_{10,17} + 858.5 w_ub_{10,18} + 859.5 w_ub_{10,19} + 860.5 w_ub_{10,20} + 861.5 w_ub_{10,21} + 281.7 w_ub_{11,9} + 422 w_ub_{11,10} + 423 w_ub_{11,11} + 376.8 w_ub_{11,12} + 377.8 w_ub_{11,13} + 518.1 w_ub_{11,14} + 528 w_ub_{11,15} + 529 w_ub_{11,16} + 549.6 w_ub_{11,17} + 858.5 w_ub_{11,18} + 859.5 w_ub_{11,19} + 860.5 w_ub_{11,20} + 861.5 w_ub_{11,21} + 281.7 w_b_{9,9} + 422 w_b_{9,10} + 423 w_b_{9,11} + 376.8 w_b_{9,12} + 377.8 w_b_{9,13} + 518.1 w_b_{9,14} + 528 w_b_{9,15} + 529 w_b_{9,16} + 549.6 w_b_{9,17} + 858.5 w_b_{9,18} + 859.5 w_b_{9,19} + 860.5 w_b_{9,20} + 861.5 w_b_{9,21} + 281.7 w_b_{10,9} + 422 w_b_{10,10} + 423 w_b_{10,11} + 376.8 w_b_{10,12} + 377.8 w_b_{10,13} + 518.1 w_b_{10,14} + 528 w_b_{10,15} + 529 w_b_{10,16} + 549.6 w_b_{10,17} + 858.5 w_b_{10,18} + 859.5 w_b_{10,19} + 860.5 w_b_{10,20} + 861.5 w_b_{10,21} + 281.7 w_b_{11,9} + 422 w_b_{11,10} + 423 w_b_{11,11} + 376.8 w_b_{11,12} + 377.8 w_b_{11,13} + 518.1 w_b_{11,14} + 528 w_b_{11,15} + 529 w_b_{11,16} + 549.6 w_b_{11,17} + 858.5 w_b_{11,18} + 859.5 w_b_{11,19} + 860.5 w_b_{11,20} + 861.5 w_b_{11,21} $$"
      ],
      "text/plain": [
       "281.7 m_floor[9,9] + 422 m_floor[9,10] + 423 m_floor[9,11] + 376.8 m_floor[9,12] + 377.8 m_floor[9,13] + 518.1 m_floor[9,14] + 528 m_floor[9,15] + 529 m_floor[9,16] + 549.6 m_floor[9,17] + 858.5 m_floor[9,18] + 859.5 m_floor[9,19] + 860.5 m_floor[9,20] + 861.5 m_floor[9,21] + 281.7 m_floor[10,9] + 422 m_floor[10,10] + 423 m_floor[10,11] + 376.8 m_floor[10,12] + 377.8 m_floor[10,13] + 518.1 m_floor[10,14] + 528 m_floor[10,15] + 529 m_floor[10,16] + 549.6 m_floor[10,17] + 858.5 m_floor[10,18] + 859.5 m_floor[10,19] + 860.5 m_floor[10,20] + 861.5 m_floor[10,21] + 281.7 m_floor[11,9] + 422 m_floor[11,10] + 423 m_floor[11,11] + 376.8 m_floor[11,12] + 377.8 m_floor[11,13] + 518.1 m_floor[11,14] + 528 m_floor[11,15] + 529 m_floor[11,16] + 549.6 m_floor[11,17] + 858.5 m_floor[11,18] + 859.5 m_floor[11,19] + 860.5 m_floor[11,20] + 861.5 m_floor[11,21] + 281.7 m_vault[9,9] + 422 m_vault[9,10] + 423 m_vault[9,11] + 376.8 m_vault[9,12] + 377.8 m_vault[9,13] + 518.1 m_vault[9,14] + 528 m_vault[9,15] + 529 m_vault[9,16] + 549.6 m_vault[9,17] + 858.5 m_vault[9,18] + 859.5 m_vault[9,19] + 860.5 m_vault[9,20] + 861.5 m_vault[9,21] + 281.7 m_vault[10,9] + 422 m_vault[10,10] + 423 m_vault[10,11] + 376.8 m_vault[10,12] + 377.8 m_vault[10,13] + 518.1 m_vault[10,14] + 528 m_vault[10,15] + 529 m_vault[10,16] + 549.6 m_vault[10,17] + 858.5 m_vault[10,18] + 859.5 m_vault[10,19] + 860.5 m_vault[10,20] + 861.5 m_vault[10,21] + 281.7 m_vault[11,9] + 422 m_vault[11,10] + 423 m_vault[11,11] + 376.8 m_vault[11,12] + 377.8 m_vault[11,13] + 518.1 m_vault[11,14] + 528 m_vault[11,15] + 529 m_vault[11,16] + 549.6 m_vault[11,17] + 858.5 m_vault[11,18] + 859.5 m_vault[11,19] + 860.5 m_vault[11,20] + 861.5 m_vault[11,21] + 281.7 m_pb[9,9] + 422 m_pb[9,10] + 423 m_pb[9,11] + 376.8 m_pb[9,12] + 377.8 m_pb[9,13] + 518.1 m_pb[9,14] + 528 m_pb[9,15] + 529 m_pb[9,16] + 549.6 m_pb[9,17] + 858.5 m_pb[9,18] + 859.5 m_pb[9,19] + 860.5 m_pb[9,20] + 861.5 m_pb[9,21] + 281.7 m_pb[10,9] + 422 m_pb[10,10] + 423 m_pb[10,11] + 376.8 m_pb[10,12] + 377.8 m_pb[10,13] + 518.1 m_pb[10,14] + 528 m_pb[10,15] + 529 m_pb[10,16] + 549.6 m_pb[10,17] + 858.5 m_pb[10,18] + 859.5 m_pb[10,19] + 860.5 m_pb[10,20] + 861.5 m_pb[10,21] + 281.7 m_pb[11,9] + 422 m_pb[11,10] + 423 m_pb[11,11] + 376.8 m_pb[11,12] + 377.8 m_pb[11,13] + 518.1 m_pb[11,14] + 528 m_pb[11,15] + 529 m_pb[11,16] + 549.6 m_pb[11,17] + 858.5 m_pb[11,18] + 859.5 m_pb[11,19] + 860.5 m_pb[11,20] + 861.5 m_pb[11,21] + 281.7 m_pommel[9,9] + 422 m_pommel[9,10] + 423 m_pommel[9,11] + 376.8 m_pommel[9,12] + 377.8 m_pommel[9,13] + 518.1 m_pommel[9,14] + 528 m_pommel[9,15] + 529 m_pommel[9,16] + 549.6 m_pommel[9,17] + 858.5 m_pommel[9,18] + 859.5 m_pommel[9,19] + 860.5 m_pommel[9,20] + 861.5 m_pommel[9,21] + 281.7 m_pommel[10,9] + 422 m_pommel[10,10] + 423 m_pommel[10,11] + 376.8 m_pommel[10,12] + 377.8 m_pommel[10,13] + 518.1 m_pommel[10,14] + 528 m_pommel[10,15] + 529 m_pommel[10,16] + 549.6 m_pommel[10,17] + 858.5 m_pommel[10,18] + 859.5 m_pommel[10,19] + 860.5 m_pommel[10,20] + 861.5 m_pommel[10,21] + 281.7 m_pommel[11,9] + 422 m_pommel[11,10] + 423 m_pommel[11,11] + 376.8 m_pommel[11,12] + 377.8 m_pommel[11,13] + 518.1 m_pommel[11,14] + 528 m_pommel[11,15] + 529 m_pommel[11,16] + 549.6 m_pommel[11,17] + 858.5 m_pommel[11,18] + 859.5 m_pommel[11,19] + 860.5 m_pommel[11,20] + 861.5 m_pommel[11,21] + 281.7 m_horizontal[9,9] + 422 m_horizontal[9,10] + 423 m_horizontal[9,11] + 376.8 m_horizontal[9,12] + 377.8 m_horizontal[9,13] + 518.1 m_horizontal[9,14] + 528 m_horizontal[9,15] + 529 m_horizontal[9,16] + 549.6 m_horizontal[9,17] + 858.5 m_horizontal[9,18] + 859.5 m_horizontal[9,19] + 860.5 m_horizontal[9,20] + 861.5 m_horizontal[9,21] + 281.7 m_horizontal[10,9] + 422 m_horizontal[10,10] + 423 m_horizontal[10,11] + 376.8 m_horizontal[10,12] + 377.8 m_horizontal[10,13] + 518.1 m_horizontal[10,14] + 528 m_horizontal[10,15] + 529 m_horizontal[10,16] + 549.6 m_horizontal[10,17] + 858.5 m_horizontal[10,18] + 859.5 m_horizontal[10,19] + 860.5 m_horizontal[10,20] + 861.5 m_horizontal[10,21] + 281.7 m_horizontal[11,9] + 422 m_horizontal[11,10] + 423 m_horizontal[11,11] + 376.8 m_horizontal[11,12] + 377.8 m_horizontal[11,13] + 518.1 m_horizontal[11,14] + 528 m_horizontal[11,15] + 529 m_horizontal[11,16] + 549.6 m_horizontal[11,17] + 858.5 m_horizontal[11,18] + 859.5 m_horizontal[11,19] + 860.5 m_horizontal[11,20] + 861.5 m_horizontal[11,21] + 281.7 m_rings[9,9] + 422 m_rings[9,10] + 423 m_rings[9,11] + 376.8 m_rings[9,12] + 377.8 m_rings[9,13] + 518.1 m_rings[9,14] + 528 m_rings[9,15] + 529 m_rings[9,16] + 549.6 m_rings[9,17] + 858.5 m_rings[9,18] + 859.5 m_rings[9,19] + 860.5 m_rings[9,20] + 861.5 m_rings[9,21] + 281.7 m_rings[10,9] + 422 m_rings[10,10] + 423 m_rings[10,11] + 376.8 m_rings[10,12] + 377.8 m_rings[10,13] + 518.1 m_rings[10,14] + 528 m_rings[10,15] + 529 m_rings[10,16] + 549.6 m_rings[10,17] + 858.5 m_rings[10,18] + 859.5 m_rings[10,19] + 860.5 m_rings[10,20] + 861.5 m_rings[10,21] + 281.7 m_rings[11,9] + 422 m_rings[11,10] + 423 m_rings[11,11] + 376.8 m_rings[11,12] + 377.8 m_rings[11,13] + 518.1 m_rings[11,14] + 528 m_rings[11,15] + 529 m_rings[11,16] + 549.6 m_rings[11,17] + 858.5 m_rings[11,18] + 859.5 m_rings[11,19] + 860.5 m_rings[11,20] + 861.5 m_rings[11,21] + 281.7 w_floor[9,9] + 422 w_floor[9,10] + 423 w_floor[9,11] + 376.8 w_floor[9,12] + 377.8 w_floor[9,13] + 518.1 w_floor[9,14] + 528 w_floor[9,15] + 529 w_floor[9,16] + 549.6 w_floor[9,17] + 858.5 w_floor[9,18] + 859.5 w_floor[9,19] + 860.5 w_floor[9,20] + 861.5 w_floor[9,21] + 281.7 w_floor[10,9] + 422 w_floor[10,10] + 423 w_floor[10,11] + 376.8 w_floor[10,12] + 377.8 w_floor[10,13] + 518.1 w_floor[10,14] + 528 w_floor[10,15] + 529 w_floor[10,16] + 549.6 w_floor[10,17] + 858.5 w_floor[10,18] + 859.5 w_floor[10,19] + 860.5 w_floor[10,20] + 861.5 w_floor[10,21] + 281.7 w_floor[11,9] + 422 w_floor[11,10] + 423 w_floor[11,11] + 376.8 w_floor[11,12] + 377.8 w_floor[11,13] + 518.1 w_floor[11,14] + 528 w_floor[11,15] + 529 w_floor[11,16] + 549.6 w_floor[11,17] + 858.5 w_floor[11,18] + 859.5 w_floor[11,19] + 860.5 w_floor[11,20] + 861.5 w_floor[11,21] + 281.7 w_vault[9,9] + 422 w_vault[9,10] + 423 w_vault[9,11] + 376.8 w_vault[9,12] + 377.8 w_vault[9,13] + 518.1 w_vault[9,14] + 528 w_vault[9,15] + 529 w_vault[9,16] + 549.6 w_vault[9,17] + 858.5 w_vault[9,18] + 859.5 w_vault[9,19] + 860.5 w_vault[9,20] + 861.5 w_vault[9,21] + 281.7 w_vault[10,9] + 422 w_vault[10,10] + 423 w_vault[10,11] + 376.8 w_vault[10,12] + 377.8 w_vault[10,13] + 518.1 w_vault[10,14] + 528 w_vault[10,15] + 529 w_vault[10,16] + 549.6 w_vault[10,17] + 858.5 w_vault[10,18] + 859.5 w_vault[10,19] + 860.5 w_vault[10,20] + 861.5 w_vault[10,21] + 281.7 w_vault[11,9] + 422 w_vault[11,10] + 423 w_vault[11,11] + 376.8 w_vault[11,12] + 377.8 w_vault[11,13] + 518.1 w_vault[11,14] + 528 w_vault[11,15] + 529 w_vault[11,16] + 549.6 w_vault[11,17] + 858.5 w_vault[11,18] + 859.5 w_vault[11,19] + 860.5 w_vault[11,20] + 861.5 w_vault[11,21] + 281.7 w_ub[9,9] + 422 w_ub[9,10] + 423 w_ub[9,11] + 376.8 w_ub[9,12] + 377.8 w_ub[9,13] + 518.1 w_ub[9,14] + 528 w_ub[9,15] + 529 w_ub[9,16] + 549.6 w_ub[9,17] + 858.5 w_ub[9,18] + 859.5 w_ub[9,19] + 860.5 w_ub[9,20] + 861.5 w_ub[9,21] + 281.7 w_ub[10,9] + 422 w_ub[10,10] + 423 w_ub[10,11] + 376.8 w_ub[10,12] + 377.8 w_ub[10,13] + 518.1 w_ub[10,14] + 528 w_ub[10,15] + 529 w_ub[10,16] + 549.6 w_ub[10,17] + 858.5 w_ub[10,18] + 859.5 w_ub[10,19] + 860.5 w_ub[10,20] + 861.5 w_ub[10,21] + 281.7 w_ub[11,9] + 422 w_ub[11,10] + 423 w_ub[11,11] + 376.8 w_ub[11,12] + 377.8 w_ub[11,13] + 518.1 w_ub[11,14] + 528 w_ub[11,15] + 529 w_ub[11,16] + 549.6 w_ub[11,17] + 858.5 w_ub[11,18] + 859.5 w_ub[11,19] + 860.5 w_ub[11,20] + 861.5 w_ub[11,21] + 281.7 w_b[9,9] + 422 w_b[9,10] + 423 w_b[9,11] + 376.8 w_b[9,12] + 377.8 w_b[9,13] + 518.1 w_b[9,14] + 528 w_b[9,15] + 529 w_b[9,16] + 549.6 w_b[9,17] + 858.5 w_b[9,18] + 859.5 w_b[9,19] + 860.5 w_b[9,20] + 861.5 w_b[9,21] + 281.7 w_b[10,9] + 422 w_b[10,10] + 423 w_b[10,11] + 376.8 w_b[10,12] + 377.8 w_b[10,13] + 518.1 w_b[10,14] + 528 w_b[10,15] + 529 w_b[10,16] + 549.6 w_b[10,17] + 858.5 w_b[10,18] + 859.5 w_b[10,19] + 860.5 w_b[10,20] + 861.5 w_b[10,21] + 281.7 w_b[11,9] + 422 w_b[11,10] + 423 w_b[11,11] + 376.8 w_b[11,12] + 377.8 w_b[11,13] + 518.1 w_b[11,14] + 528 w_b[11,15] + 529 w_b[11,16] + 549.6 w_b[11,17] + 858.5 w_b[11,18] + 859.5 w_b[11,19] + 860.5 w_b[11,20] + 861.5 w_b[11,21]"
      ]
     },
     "execution_count": 14,
     "metadata": {},
     "output_type": "execute_result"
    }
   ],
   "source": [
    "\n",
    "#add up viewers at possible times of events to get objective to be maximized\n",
    "#mens qual\n",
    "objec = v'*(m_qual1[1,:])+v'*(m_qual1[2,:])+ v'*(m_qual2[1,:])+v'*(m_qual2[2,:])+ v'*(m_qual3[1,:])+v'*(m_qual3[2,:])\n",
    "#womens qual\n",
    "objec = objec + v'*(w_qual1[1,:])+v'*(w_qual1[2,:])+ v'*(w_qual2[1,:])+v'*(w_qual2[2,:])+ v'*(w_qual3[1,:])+v'*(w_qual3[2,:])\n",
    "#team finals\n",
    "objec = objec +v'*m_tf[4,:]+v'*m_tf[5,:]+v'*w_tf[4,:]+v'*w_tf[5,:]\n",
    "#indiv all around\n",
    "objec = objec +v'*m_ar[6,:]+v'*m_ar[7,:]+v'*w_ar[6,:]+v'*w_ar[7,:]\n",
    "\n",
    "#specific events\n",
    "#always a day of rest before finals (day 8)\n",
    "objec = sum(v'*m_floor[i,:] for i in 9:11)\n",
    "objec = objec +sum(v'*m_vault[i,:] for i in 9:11)\n",
    "objec = objec +sum(v'*m_pb[i,:] for i in 9:11)\n",
    "objec = objec +sum(v'*m_pommel[i,:] for i in 9:11)\n",
    "objec = objec +sum(v'*m_horizontal[i,:] for i in 9:11)\n",
    "objec = objec +sum(v'*m_rings[i,:] for i in 9:11)\n",
    "objec = objec +sum(v'*w_floor[i,:] for i in 9:11)\n",
    "objec = objec +sum(v'*w_vault[i,:] for i in 9:11)\n",
    "objec = objec +sum(v'*w_ub[i,:] for i in 9:11)\n",
    "objec = objec +sum(v'*w_b[i,:] for i in 9:11)\n",
    "\n",
    "\n",
    "# #objective\n",
    "\n",
    "# @objective(o, Max,  objec)\n",
    "# #take a look at our model\n",
    "# #o\n",
    "\n",
    "# optimize!(o)"
   ]
  },
  {
   "cell_type": "code",
   "execution_count": 15,
   "metadata": {},
   "outputs": [],
   "source": [
    "#look at time slots of qualifiers\n",
    "# @show JuMP.value.(m_qual3[:,:])\n",
    "# @show JuMP.value.(m_qual2[:,:])\n",
    "# @show JuMP.value.(m_qual1[:,:])\n",
    "# @show JuMP.value.(w_qual3[:,:])\n",
    "# @show JuMP.value.(w_qual2[:,:])\n",
    "# @show JuMP.value.(w_qual1[:,:])"
   ]
  },
  {
   "cell_type": "code",
   "execution_count": 16,
   "metadata": {},
   "outputs": [
    {
     "name": "stdout",
     "output_type": "stream",
     "text": [
      "Welcome to the CBC MILP Solver \n",
      "Version: 2.10.3 \n",
      "Build Date: Oct  7 2019 \n",
      "\n",
      "command line - Cbc_C_Interface -solve -quit (default strategy 1)\n",
      "Continuous objective value is 3444 - 0.00 seconds\n",
      "Cgl0003I 0 fixed, 0 tightened bounds, 128 strengthened rows, 0 substitutions\n",
      "Cgl0003I 0 fixed, 0 tightened bounds, 92 strengthened rows, 0 substitutions\n",
      "Cgl0003I 0 fixed, 0 tightened bounds, 54 strengthened rows, 0 substitutions\n",
      "Cgl0003I 0 fixed, 0 tightened bounds, 16 strengthened rows, 0 substitutions\n",
      "Cgl0003I 0 fixed, 0 tightened bounds, 16 strengthened rows, 0 substitutions\n",
      "Cgl0003I 0 fixed, 0 tightened bounds, 50 strengthened rows, 0 substitutions\n",
      "Cgl0003I 0 fixed, 0 tightened bounds, 50 strengthened rows, 0 substitutions\n",
      "Cgl0003I 0 fixed, 0 tightened bounds, 50 strengthened rows, 0 substitutions\n",
      "Cgl0003I 0 fixed, 0 tightened bounds, 11 strengthened rows, 0 substitutions\n",
      "Cgl0004I processed model has 531 rows, 458 columns (458 integer (458 of which binary)) and 3404 elements\n",
      "Cbc0031I 7 added rows had average density of 107.71429\n",
      "Cbc0013I At root node, 7 cuts changed objective from -3444 to -3444 in 100 passes\n",
      "Cbc0014I Cut generator 0 (Probing) - 0 row cuts average 0.0 elements, 0 column cuts (0 active)  in 0.183 seconds - new frequency is -100\n",
      "Cbc0014I Cut generator 1 (Gomory) - 1686 row cuts average 173.3 elements, 0 column cuts (0 active)  in 0.073 seconds - new frequency is -100\n",
      "Cbc0014I Cut generator 2 (Knapsack) - 2 row cuts average 23.5 elements, 0 column cuts (0 active)  in 0.153 seconds - new frequency is -100\n",
      "Cbc0014I Cut generator 3 (Clique) - 0 row cuts average 0.0 elements, 0 column cuts (0 active)  in 0.004 seconds - new frequency is -100\n",
      "Cbc0014I Cut generator 4 (MixedIntegerRounding2) - 13 row cuts average 140.5 elements, 0 column cuts (0 active)  in 0.043 seconds - new frequency is -100\n",
      "Cbc0014I Cut generator 5 (FlowCover) - 0 row cuts average 0.0 elements, 0 column cuts (0 active)  in 0.004 seconds - new frequency is -100\n",
      "Cbc0014I Cut generator 6 (TwoMirCuts) - 169 row cuts average 85.2 elements, 0 column cuts (0 active)  in 0.058 seconds - new frequency is -100\n",
      "Cbc0014I Cut generator 7 (ZeroHalf) - 143 row cuts average 9.6 elements, 0 column cuts (0 active)  in 0.775 seconds - new frequency is -100\n",
      "Cbc0010I After 0 nodes, 1 on tree, 1e+50 best solution, best possible -3444 (1.84 seconds)\n",
      "Cbc0012I Integer solution of -3319.6 found by DiveCoefficient after 3142 iterations and 2 nodes (1.87 seconds)\n",
      "Cbc0038I Full problem 531 rows 458 columns, reduced to 101 rows 41 columns\n",
      "Cbc0016I Integer solution of -3321.6 found by strong branching after 3695 iterations and 15 nodes (2.14 seconds)\n",
      "Cbc0038I Full problem 531 rows 458 columns, reduced to 25 rows 11 columns\n",
      "Cbc0001I Search completed - best objective -3321.6, took 6472 iterations and 102 nodes (2.56 seconds)\n",
      "Cbc0032I Strong branching done 958 times (17671 iterations), fathomed 25 nodes and fixed 25 variables\n",
      "Cbc0035I Maximum depth 30, 114 variables fixed on reduced cost\n",
      "Cuts at root node changed objective from -3444 to -3444\n",
      "Probing was tried 100 times and created 0 cuts of which 0 were active after adding rounds of cuts (0.183 seconds)\n",
      "Gomory was tried 100 times and created 1686 cuts of which 0 were active after adding rounds of cuts (0.073 seconds)\n",
      "Knapsack was tried 100 times and created 2 cuts of which 0 were active after adding rounds of cuts (0.153 seconds)\n",
      "Clique was tried 100 times and created 0 cuts of which 0 were active after adding rounds of cuts (0.004 seconds)\n",
      "MixedIntegerRounding2 was tried 100 times and created 13 cuts of which 0 were active after adding rounds of cuts (0.043 seconds)\n",
      "FlowCover was tried 100 times and created 0 cuts of which 0 were active after adding rounds of cuts (0.004 seconds)\n",
      "TwoMirCuts was tried 100 times and created 169 cuts of which 0 were active after adding rounds of cuts (0.058 seconds)\n",
      "ZeroHalf was tried 100 times and created 143 cuts of which 0 were active after adding rounds of cuts (0.775 seconds)\n",
      "\n",
      "Result - Optimal solution found\n",
      "\n",
      "Objective value:                3321.60000000\n",
      "Enumerated nodes:               102\n",
      "Total iterations:               6472\n",
      "Time (CPU seconds):             2.59\n",
      "Time (Wallclock seconds):       3.74\n",
      "\n",
      "Total time (CPU seconds):       2.59   (Wallclock seconds):       3.74\n",
      "\n"
     ]
    }
   ],
   "source": [
    "#potential other objectives\n",
    "#maxmin viewers for each section\n",
    "m_qual_views = v'*(m_qual1[1,:])+v'*(m_qual1[2,:])+ v'*(m_qual2[1,:])+v'*(m_qual2[2,:])+ v'*(m_qual3[1,:])+v'*(m_qual3[2,:])\n",
    "w_qual_views = v'*(w_qual1[1,:])+v'*(w_qual1[2,:])+ v'*(w_qual2[1,:])+v'*(w_qual2[2,:])+ v'*(w_qual3[1,:])+v'*(w_qual3[2,:])\n",
    "\n",
    "team_final_views = v'*m_tf[4,:]+v'*m_tf[5,:]+v'*w_tf[4,:]+v'*w_tf[5,:]\n",
    "\n",
    "indiv_views = v'*m_ar[6,:]+v'*m_ar[7,:]+v'*w_ar[6,:]+v'*w_ar[7,:]\n",
    "\n",
    "#event views\n",
    "e = sum(v'*m_floor[i,:] for i in 9:11)\n",
    "e += sum(v'*m_vault[i,:] for i in 9:11)\n",
    "e += sum(v'*m_pb[i,:] for i in 9:11)\n",
    "e += sum(v'*m_pommel[i,:] for i in 9:11)\n",
    "e += sum(v'*m_horizontal[i,:] for i in 9:11)\n",
    "e += sum(v'*m_rings[i,:] for i in 9:11)\n",
    "e +=sum(v'*w_floor[i,:] for i in 9:11)\n",
    "e += sum(v'*w_vault[i,:] for i in 9:11)\n",
    "e += sum(v'*w_ub[i,:] for i in 9:11)\n",
    "e += sum(v'*w_b[i,:] for i in 9:11)\n",
    "\n",
    "section_views = [m_qual_views,w_qual_views,team_final_views,indiv_views,e]\n",
    "min_views = m_qual_views\n",
    "for views in section_views\n",
    "    @constraint(o, min_views <= views)\n",
    "end\n",
    "@objective(o, Max,  min_views)\n",
    "optimize!(o)\n"
   ]
  },
  {
   "cell_type": "code",
   "execution_count": null,
   "metadata": {},
   "outputs": [],
   "source": []
  }
 ],
 "metadata": {
  "@webio": {
   "lastCommId": null,
   "lastKernelId": null
  },
  "kernelspec": {
   "display_name": "Julia 1.3.1",
   "language": "julia",
   "name": "julia-1.3"
  },
  "language_info": {
   "file_extension": ".jl",
   "mimetype": "application/julia",
   "name": "julia",
   "version": "1.3.1"
  }
 },
 "nbformat": 4,
 "nbformat_minor": 2
}
