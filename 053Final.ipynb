{
 "cells": [
  {
   "cell_type": "code",
   "execution_count": null,
   "metadata": {},
   "outputs": [
    {
     "name": "stderr",
     "output_type": "stream",
     "text": [
      "┌ Info: Precompiling JuMP [4076af6c-e467-56ae-b986-b466b2749572]\n",
      "└ @ Base loading.jl:1273\n"
     ]
    }
   ],
   "source": [
    "using JuMP, Cbc\n",
    "\n",
    "#defining variables\n",
    "# qualifications variables\n",
    "@variable(o, m_qual[d=1:2, t=9:21, r=1:3])\n",
    "@variable(o, w_qual[d=1:2, t=9:21, r=1:3])\n",
    "\n",
    "# team finals\n",
    "@variable(o, m_tf[d=4:5, t=9:21])\n",
    "@variable(o, w_tf[d=4:5, t=9:21])\n",
    "\n",
    "# individual all around\n",
    "@variable(o, m_ar[d=6:7, t=9:21])\n",
    "@variable(o, w_ar[d=6:7, t=9:21])\n",
    "\n",
    "# specific events\n",
    "@variable(o, m_floor[d=9:11, t=9:21])  # mens floor\n",
    "@variable(o, m_vault[d=9:11, t=9:21]) # mens vault\n",
    "@variable(o, m_pb[d=9:11, t=9:21]) # mens parallel bars\n",
    "@variable(o, m_pommel[d=9:11, t=9:21]) # mens pommel horse\n",
    "@variable(o, m_rings[d=9:11, t=9:21]) # mens rings\n",
    "@variable(o, m_horizontal[d=9:11, t=9:21]) #mens horizontal bar\n",
    "@variable(o, w_floor[d=9:11, t=9:21]) # womens floor\n",
    "@variable(o, w_vault[d=9:11, t=9:21]) # womens vault\n",
    "@variable(o, w_ub[d=9:11, t=9:21]) # womens uneven bars\n",
    "@variable(o, w_b[d=9:11, t=9:21]) # womens beam\n",
    "\n",
    "spec_events = [m_floor,m_vault,m_pb,m_pommel,m_rings,m_horizontal,w_floor,w_vault,w_ub,w_b]\n",
    "\n"
   ]
  },
  {
   "cell_type": "code",
   "execution_count": null,
   "metadata": {},
   "outputs": [],
   "source": []
  }
 ],
 "metadata": {
  "kernelspec": {
   "display_name": "Julia 1.3.1",
   "language": "julia",
   "name": "julia-1.3"
  },
  "language_info": {
   "file_extension": ".jl",
   "mimetype": "application/julia",
   "name": "julia",
   "version": "1.3.1"
  }
 },
 "nbformat": 4,
 "nbformat_minor": 2
}
