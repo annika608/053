{
 "cells": [
  {
   "cell_type": "code",
   "execution_count": 1,
   "metadata": {},
   "outputs": [
    {
     "name": "stderr",
     "output_type": "stream",
     "text": [
      "┌ Warning: `with_optimizer` is deprecated. Adapt the following example to update your code:\n",
      "│ `with_optimizer(Ipopt.Optimizer)` becomes `Ipopt.Optimizer`.\n",
      "│   caller = top-level scope at In[1]:2\n",
      "└ @ Core In[1]:2\n"
     ]
    },
    {
     "data": {
      "text/latex": [
       "$$ \\begin{alignat*}{1}\\text{feasibility}\\\\\n",
       "\\text{Subject to} \\quad\\end{alignat*}\n",
       " $$"
      ],
      "text/plain": [
       "A JuMP Model\n",
       "Feasibility problem with:\n",
       "Variables: 0\n",
       "Model mode: AUTOMATIC\n",
       "CachingOptimizer state: EMPTY_OPTIMIZER\n",
       "Solver name: COIN Branch-and-Cut (Cbc)"
      ]
     },
     "execution_count": 1,
     "metadata": {},
     "output_type": "execute_result"
    }
   ],
   "source": [
    "using JuMP, Cbc\n",
    "o = Model(with_optimizer(Cbc.Optimizer))"
   ]
  },
  {
   "cell_type": "code",
   "execution_count": 2,
   "metadata": {},
   "outputs": [
    {
     "data": {
      "text/plain": [
       "13-element Array{Float64,1}:\n",
       " 281.7\n",
       " 422.0\n",
       " 423.0\n",
       " 376.8\n",
       " 377.8\n",
       " 518.1\n",
       " 528.0\n",
       " 529.0\n",
       " 549.6\n",
       " 858.5\n",
       " 859.5\n",
       " 860.5\n",
       " 861.5"
      ]
     },
     "execution_count": 2,
     "metadata": {},
     "output_type": "execute_result"
    }
   ],
   "source": [
    "#viewers in millions in hours 9:21\n",
    "v = [281.7\n",
    "422\n",
    "423\n",
    "376.8\n",
    "377.8\n",
    "518.1\n",
    "528\n",
    "529\n",
    "549.6\n",
    "858.5\n",
    "859.5\n",
    "860.5\n",
    "861.5]"
   ]
  },
  {
   "cell_type": "code",
   "execution_count": 3,
   "metadata": {},
   "outputs": [
    {
     "data": {
      "text/plain": [
       "2-dimensional DenseAxisArray{VariableRef,2,...} with index sets:\n",
       "    Dimension 1, Base.OneTo(2)\n",
       "    Dimension 2, 9:21\n",
       "And data, a 2×13 Array{VariableRef,2}:\n",
       " w_qual3[1,9]  w_qual3[1,10]  w_qual3[1,11]  …  w_qual3[1,20]  w_qual3[1,21]\n",
       " w_qual3[2,9]  w_qual3[2,10]  w_qual3[2,11]     w_qual3[2,20]  w_qual3[2,21]"
      ]
     },
     "execution_count": 3,
     "metadata": {},
     "output_type": "execute_result"
    }
   ],
   "source": [
    "# qualifications variables\n",
    "@variable(o, m_qual1[1:2, 9:21], Bin)      #men's qualification subdivision 1\n",
    "@variable(o, m_qual2[1:2, 9:21], Bin)      #men's qualification subdivision 2\n",
    "@variable(o, m_qual3[1:2, 9:21], Bin)      #men's qualification subdivision 3\n",
    "@variable(o, w_qual1[1:2, 9:21], Bin)      #women's qualification subdivision 1\n",
    "@variable(o, w_qual2[1:2, 9:21], Bin)      #women's qualification subdivision 2\n",
    "@variable(o, w_qual3[1:2, 9:21], Bin)      #women's qualification subdivision 3"
   ]
  },
  {
   "cell_type": "code",
   "execution_count": 19,
   "metadata": {},
   "outputs": [
    {
     "ename": "ErrorException",
     "evalue": "An object of name g is already attached to this model. If this is intended, consider using the anonymous construction syntax, e.g., x = @variable(model, [1:N], ...) where the name of the object does not appear inside the macro.",
     "output_type": "error",
     "traceback": [
      "An object of name g is already attached to this model. If this is intended, consider using the anonymous construction syntax, e.g., x = @variable(model, [1:N], ...) where the name of the object does not appear inside the macro.",
      "",
      "Stacktrace:",
      " [1] error(::String) at ./error.jl:33",
      " [2] _error_if_cannot_register(::Model, ::Symbol) at /Users/Annika/.julia/packages/JuMP/CZ8vV/src/macros.jl:52",
      " [3] top-level scope at /Users/Annika/.julia/packages/JuMP/CZ8vV/src/macros.jl:75",
      " [4] top-level scope at In[19]:10"
     ]
    }
   ],
   "source": [
    "# QUALIFIERS\n",
    "\n",
    "#the events cannot take place at the same time\n",
    "for day in 1:2\n",
    "    for hour in 9:21\n",
    "        @constraint(o, sum(m_qual1[day, hour] + m_qual2[day, hour] + m_qual3[day, hour]) <= 1)\n",
    "        @constraint(o, sum(w_qual1[day, hour] + w_qual2[day, hour] + w_qual3[day, hour]) <= 1)\n",
    "    end\n",
    "end\n",
    "\n",
    "#make sure every event takes 2hrs, each gender is on a different day \n",
    "@variable(o, g, Bin)\n",
    "men_qual = [m_qual1, m_qual2, m_qual3]\n",
    "women_qual= [w_qual1, w_qual2, w_qual3]\n",
    "for event in men_qual\n",
    "    @constraint(o, sum(event[1,:]) == 2-2*g)\n",
    "    @constraint(o, sum(event[2,:]) == 2*g)\n",
    "end\n",
    "for event in women_qual\n",
    "    @constraint(o, sum(event[1,:]) == 2*g)\n",
    "    @constraint(o, sum(event[2,:]) == 2-2*g)\n",
    "end\n",
    "\n",
    "#events last 2 consecutive hours \n",
    "quals = [w_qual1, w_qual2, w_qual3,m_qual1, m_qual2, m_qual3]\n",
    "for event in quals\n",
    "    for h in 10:20\n",
    "        @constraint(o, sum(event[1, h+1] + event[1, h-1]) >= event[1, h])\n",
    "        @constraint(o, sum(event[2, h+1] + event[2, h-1]) >= event[2, h])\n",
    "    end\n",
    "    @constraint(o,event[1,9] <= event[1,10])\n",
    "    @constraint(o,event[1,21] <= event[1,20])\n",
    "    @constraint(o,event[2,9] <= event[2,10])\n",
    "    @constraint(o,event[2,21] <= event[2,20])\n",
    "end\n",
    "\n",
    "\n",
    "\n",
    "# #hours are consecutive now for m_qual1\n",
    "# @variable(o, t_m1_1[9:20], Bin) #binary variable denoting the start time of m_qual1 on day 1\n",
    "# @variable(o, t_m1_2[9:20], Bin) #binary variable denoting the start time of m_qual1 on day 2\n",
    "# @constraint(o, sum(t_m1_1[:]) == w)\n",
    "# @constraint(o, sum(t_m1_2[:]) == 1-w)\n",
    "# for hour in 9:20\n",
    "#     @constraint(o, sum(m_qual1[1, hour]+ m_qual1[1, hour+1]) >= 2*t_m1_1[hour])\n",
    "#     @constraint(o, sum(m_qual1[2, hour]+ m_qual1[2, hour+1]) == 2*t_m1_2[hour])\n",
    "# end\n"
   ]
  },
  {
   "cell_type": "code",
   "execution_count": 20,
   "metadata": {},
   "outputs": [
    {
     "data": {
      "text/latex": [
       "$$ 281.7 m_qual1_{1,9} + 422 m_qual1_{1,10} + 423 m_qual1_{1,11} + 376.8 m_qual1_{1,12} + 377.8 m_qual1_{1,13} + 518.1 m_qual1_{1,14} + 528 m_qual1_{1,15} + 529 m_qual1_{1,16} + 549.6 m_qual1_{1,17} + 858.5 m_qual1_{1,18} + 859.5 m_qual1_{1,19} + 860.5 m_qual1_{1,20} + 861.5 m_qual1_{1,21} + 281.7 m_qual1_{2,9} + 422 m_qual1_{2,10} + 423 m_qual1_{2,11} + 376.8 m_qual1_{2,12} + 377.8 m_qual1_{2,13} + 518.1 m_qual1_{2,14} + 528 m_qual1_{2,15} + 529 m_qual1_{2,16} + 549.6 m_qual1_{2,17} + 858.5 m_qual1_{2,18} + 859.5 m_qual1_{2,19} + 860.5 m_qual1_{2,20} + 861.5 m_qual1_{2,21} + 281.7 m_qual2_{1,9} + 422 m_qual2_{1,10} + 423 m_qual2_{1,11} + 376.8 m_qual2_{1,12} + 377.8 m_qual2_{1,13} + 518.1 m_qual2_{1,14} + 528 m_qual2_{1,15} + 529 m_qual2_{1,16} + 549.6 m_qual2_{1,17} + 858.5 m_qual2_{1,18} + 859.5 m_qual2_{1,19} + 860.5 m_qual2_{1,20} + 861.5 m_qual2_{1,21} + 281.7 m_qual2_{2,9} + 422 m_qual2_{2,10} + 423 m_qual2_{2,11} + 376.8 m_qual2_{2,12} + 377.8 m_qual2_{2,13} + 518.1 m_qual2_{2,14} + 528 m_qual2_{2,15} + 529 m_qual2_{2,16} + 549.6 m_qual2_{2,17} + 858.5 m_qual2_{2,18} + 859.5 m_qual2_{2,19} + 860.5 m_qual2_{2,20} + 861.5 m_qual2_{2,21} + 281.7 m_qual3_{1,9} + 422 m_qual3_{1,10} + 423 m_qual3_{1,11} + 376.8 m_qual3_{1,12} + 377.8 m_qual3_{1,13} + 518.1 m_qual3_{1,14} + 528 m_qual3_{1,15} + 529 m_qual3_{1,16} + 549.6 m_qual3_{1,17} + 858.5 m_qual3_{1,18} + 859.5 m_qual3_{1,19} + 860.5 m_qual3_{1,20} + 861.5 m_qual3_{1,21} + 281.7 m_qual3_{2,9} + 422 m_qual3_{2,10} + 423 m_qual3_{2,11} + 376.8 m_qual3_{2,12} + 377.8 m_qual3_{2,13} + 518.1 m_qual3_{2,14} + 528 m_qual3_{2,15} + 529 m_qual3_{2,16} + 549.6 m_qual3_{2,17} + 858.5 m_qual3_{2,18} + 859.5 m_qual3_{2,19} + 860.5 m_qual3_{2,20} + 861.5 m_qual3_{2,21} + 281.7 w_qual1_{1,9} + 422 w_qual1_{1,10} + 423 w_qual1_{1,11} + 376.8 w_qual1_{1,12} + 377.8 w_qual1_{1,13} + 518.1 w_qual1_{1,14} + 528 w_qual1_{1,15} + 529 w_qual1_{1,16} + 549.6 w_qual1_{1,17} + 858.5 w_qual1_{1,18} + 859.5 w_qual1_{1,19} + 860.5 w_qual1_{1,20} + 861.5 w_qual1_{1,21} + 281.7 w_qual1_{2,9} + 422 w_qual1_{2,10} + 423 w_qual1_{2,11} + 376.8 w_qual1_{2,12} + 377.8 w_qual1_{2,13} + 518.1 w_qual1_{2,14} + 528 w_qual1_{2,15} + 529 w_qual1_{2,16} + 549.6 w_qual1_{2,17} + 858.5 w_qual1_{2,18} + 859.5 w_qual1_{2,19} + 860.5 w_qual1_{2,20} + 861.5 w_qual1_{2,21} + 281.7 w_qual2_{1,9} + 422 w_qual2_{1,10} + 423 w_qual2_{1,11} + 376.8 w_qual2_{1,12} + 377.8 w_qual2_{1,13} + 518.1 w_qual2_{1,14} + 528 w_qual2_{1,15} + 529 w_qual2_{1,16} + 549.6 w_qual2_{1,17} + 858.5 w_qual2_{1,18} + 859.5 w_qual2_{1,19} + 860.5 w_qual2_{1,20} + 861.5 w_qual2_{1,21} + 281.7 w_qual2_{2,9} + 422 w_qual2_{2,10} + 423 w_qual2_{2,11} + 376.8 w_qual2_{2,12} + 377.8 w_qual2_{2,13} + 518.1 w_qual2_{2,14} + 528 w_qual2_{2,15} + 529 w_qual2_{2,16} + 549.6 w_qual2_{2,17} + 858.5 w_qual2_{2,18} + 859.5 w_qual2_{2,19} + 860.5 w_qual2_{2,20} + 861.5 w_qual2_{2,21} + 281.7 w_qual3_{1,9} + 422 w_qual3_{1,10} + 423 w_qual3_{1,11} + 376.8 w_qual3_{1,12} + 377.8 w_qual3_{1,13} + 518.1 w_qual3_{1,14} + 528 w_qual3_{1,15} + 529 w_qual3_{1,16} + 549.6 w_qual3_{1,17} + 858.5 w_qual3_{1,18} + 859.5 w_qual3_{1,19} + 860.5 w_qual3_{1,20} + 861.5 w_qual3_{1,21} + 281.7 w_qual3_{2,9} + 422 w_qual3_{2,10} + 423 w_qual3_{2,11} + 376.8 w_qual3_{2,12} + 377.8 w_qual3_{2,13} + 518.1 w_qual3_{2,14} + 528 w_qual3_{2,15} + 529 w_qual3_{2,16} + 549.6 w_qual3_{2,17} + 858.5 w_qual3_{2,18} + 859.5 w_qual3_{2,19} + 860.5 w_qual3_{2,20} + 861.5 w_qual3_{2,21} $$"
      ],
      "text/plain": [
       "281.7 m_qual1[1,9] + 422 m_qual1[1,10] + 423 m_qual1[1,11] + 376.8 m_qual1[1,12] + 377.8 m_qual1[1,13] + 518.1 m_qual1[1,14] + 528 m_qual1[1,15] + 529 m_qual1[1,16] + 549.6 m_qual1[1,17] + 858.5 m_qual1[1,18] + 859.5 m_qual1[1,19] + 860.5 m_qual1[1,20] + 861.5 m_qual1[1,21] + 281.7 m_qual1[2,9] + 422 m_qual1[2,10] + 423 m_qual1[2,11] + 376.8 m_qual1[2,12] + 377.8 m_qual1[2,13] + 518.1 m_qual1[2,14] + 528 m_qual1[2,15] + 529 m_qual1[2,16] + 549.6 m_qual1[2,17] + 858.5 m_qual1[2,18] + 859.5 m_qual1[2,19] + 860.5 m_qual1[2,20] + 861.5 m_qual1[2,21] + 281.7 m_qual2[1,9] + 422 m_qual2[1,10] + 423 m_qual2[1,11] + 376.8 m_qual2[1,12] + 377.8 m_qual2[1,13] + 518.1 m_qual2[1,14] + 528 m_qual2[1,15] + 529 m_qual2[1,16] + 549.6 m_qual2[1,17] + 858.5 m_qual2[1,18] + 859.5 m_qual2[1,19] + 860.5 m_qual2[1,20] + 861.5 m_qual2[1,21] + 281.7 m_qual2[2,9] + 422 m_qual2[2,10] + 423 m_qual2[2,11] + 376.8 m_qual2[2,12] + 377.8 m_qual2[2,13] + 518.1 m_qual2[2,14] + 528 m_qual2[2,15] + 529 m_qual2[2,16] + 549.6 m_qual2[2,17] + 858.5 m_qual2[2,18] + 859.5 m_qual2[2,19] + 860.5 m_qual2[2,20] + 861.5 m_qual2[2,21] + 281.7 m_qual3[1,9] + 422 m_qual3[1,10] + 423 m_qual3[1,11] + 376.8 m_qual3[1,12] + 377.8 m_qual3[1,13] + 518.1 m_qual3[1,14] + 528 m_qual3[1,15] + 529 m_qual3[1,16] + 549.6 m_qual3[1,17] + 858.5 m_qual3[1,18] + 859.5 m_qual3[1,19] + 860.5 m_qual3[1,20] + 861.5 m_qual3[1,21] + 281.7 m_qual3[2,9] + 422 m_qual3[2,10] + 423 m_qual3[2,11] + 376.8 m_qual3[2,12] + 377.8 m_qual3[2,13] + 518.1 m_qual3[2,14] + 528 m_qual3[2,15] + 529 m_qual3[2,16] + 549.6 m_qual3[2,17] + 858.5 m_qual3[2,18] + 859.5 m_qual3[2,19] + 860.5 m_qual3[2,20] + 861.5 m_qual3[2,21] + 281.7 w_qual1[1,9] + 422 w_qual1[1,10] + 423 w_qual1[1,11] + 376.8 w_qual1[1,12] + 377.8 w_qual1[1,13] + 518.1 w_qual1[1,14] + 528 w_qual1[1,15] + 529 w_qual1[1,16] + 549.6 w_qual1[1,17] + 858.5 w_qual1[1,18] + 859.5 w_qual1[1,19] + 860.5 w_qual1[1,20] + 861.5 w_qual1[1,21] + 281.7 w_qual1[2,9] + 422 w_qual1[2,10] + 423 w_qual1[2,11] + 376.8 w_qual1[2,12] + 377.8 w_qual1[2,13] + 518.1 w_qual1[2,14] + 528 w_qual1[2,15] + 529 w_qual1[2,16] + 549.6 w_qual1[2,17] + 858.5 w_qual1[2,18] + 859.5 w_qual1[2,19] + 860.5 w_qual1[2,20] + 861.5 w_qual1[2,21] + 281.7 w_qual2[1,9] + 422 w_qual2[1,10] + 423 w_qual2[1,11] + 376.8 w_qual2[1,12] + 377.8 w_qual2[1,13] + 518.1 w_qual2[1,14] + 528 w_qual2[1,15] + 529 w_qual2[1,16] + 549.6 w_qual2[1,17] + 858.5 w_qual2[1,18] + 859.5 w_qual2[1,19] + 860.5 w_qual2[1,20] + 861.5 w_qual2[1,21] + 281.7 w_qual2[2,9] + 422 w_qual2[2,10] + 423 w_qual2[2,11] + 376.8 w_qual2[2,12] + 377.8 w_qual2[2,13] + 518.1 w_qual2[2,14] + 528 w_qual2[2,15] + 529 w_qual2[2,16] + 549.6 w_qual2[2,17] + 858.5 w_qual2[2,18] + 859.5 w_qual2[2,19] + 860.5 w_qual2[2,20] + 861.5 w_qual2[2,21] + 281.7 w_qual3[1,9] + 422 w_qual3[1,10] + 423 w_qual3[1,11] + 376.8 w_qual3[1,12] + 377.8 w_qual3[1,13] + 518.1 w_qual3[1,14] + 528 w_qual3[1,15] + 529 w_qual3[1,16] + 549.6 w_qual3[1,17] + 858.5 w_qual3[1,18] + 859.5 w_qual3[1,19] + 860.5 w_qual3[1,20] + 861.5 w_qual3[1,21] + 281.7 w_qual3[2,9] + 422 w_qual3[2,10] + 423 w_qual3[2,11] + 376.8 w_qual3[2,12] + 377.8 w_qual3[2,13] + 518.1 w_qual3[2,14] + 528 w_qual3[2,15] + 529 w_qual3[2,16] + 549.6 w_qual3[2,17] + 858.5 w_qual3[2,18] + 859.5 w_qual3[2,19] + 860.5 w_qual3[2,20] + 861.5 w_qual3[2,21]"
      ]
     },
     "execution_count": 20,
     "metadata": {},
     "output_type": "execute_result"
    }
   ],
   "source": [
    "#test the code above\n",
    "\n",
    "objec = v'*(m_qual1[1,:])+v'*(m_qual1[2,:])+ v'*(m_qual2[1,:])+v'*(m_qual2[2,:])+ v'*(m_qual3[1,:])+v'*(m_qual3[2,:])\n",
    "#womens qual\n",
    "objec = objec + v'*(w_qual1[1,:])+v'*(w_qual1[2,:])+ v'*(w_qual2[1,:])+v'*(w_qual2[2,:])+ v'*(w_qual3[1,:])+v'*(w_qual3[2,:])\n",
    "\n",
    "@objective(o, Max, objec)"
   ]
  },
  {
   "cell_type": "code",
   "execution_count": 21,
   "metadata": {},
   "outputs": [
    {
     "name": "stdout",
     "output_type": "stream",
     "text": [
      "Welcome to the CBC MILP Solver \n",
      "Version: 2.10.3 \n",
      "Build Date: Oct  7 2019 \n",
      "\n",
      "command line - Cbc_C_Interface -solve -quit (default strategy 1)\n",
      "Continuous objective value is 10326 - 0.00 seconds\n",
      "Cgl0003I 0 fixed, 0 tightened bounds, 52 strengthened rows, 0 substitutions\n",
      "Cgl0004I processed model has 86 rows, 157 columns (157 integer (157 of which binary)) and 442 elements\n",
      "Cbc0012I Integer solution of -9037.2 found by DiveCoefficient after 0 iterations and 0 nodes (0.03 seconds)\n",
      "Cbc0001I Search completed - best objective -9037.200000000001, took 0 iterations and 0 nodes (0.03 seconds)\n",
      "Cbc0035I Maximum depth 0, 0 variables fixed on reduced cost\n",
      "Cuts at root node changed objective from -9037.2 to -9037.2\n",
      "Probing was tried 0 times and created 0 cuts of which 0 were active after adding rounds of cuts (0.000 seconds)\n",
      "Gomory was tried 0 times and created 0 cuts of which 0 were active after adding rounds of cuts (0.000 seconds)\n",
      "Knapsack was tried 0 times and created 0 cuts of which 0 were active after adding rounds of cuts (0.000 seconds)\n",
      "Clique was tried 0 times and created 0 cuts of which 0 were active after adding rounds of cuts (0.000 seconds)\n",
      "MixedIntegerRounding2 was tried 0 times and created 0 cuts of which 0 were active after adding rounds of cuts (0.000 seconds)\n",
      "FlowCover was tried 0 times and created 0 cuts of which 0 were active after adding rounds of cuts (0.000 seconds)\n",
      "TwoMirCuts was tried 0 times and created 0 cuts of which 0 were active after adding rounds of cuts (0.000 seconds)\n",
      "ZeroHalf was tried 0 times and created 0 cuts of which 0 were active after adding rounds of cuts (0.000 seconds)\n",
      "\n",
      "Result - Optimal solution found\n",
      "\n",
      "Objective value:                9037.20000000\n",
      "Enumerated nodes:               0\n",
      "Total iterations:               0\n",
      "Time (CPU seconds):             0.03\n",
      "Time (Wallclock seconds):       0.03\n",
      "\n",
      "Total time (CPU seconds):       0.03   (Wallclock seconds):       0.03\n",
      "\n"
     ]
    }
   ],
   "source": [
    "optimize!(o)"
   ]
  },
  {
   "cell_type": "code",
   "execution_count": 23,
   "metadata": {},
   "outputs": [
    {
     "name": "stdout",
     "output_type": "stream",
     "text": [
      "JuMP.value.(w_qual3[:, :]) = 2-dimensional DenseAxisArray{Float64,2,...} with index sets:\n",
      "    Dimension 1, Base.OneTo(2)\n",
      "    Dimension 2, 9:21\n",
      "And data, a 2×13 Array{Float64,2}:\n",
      " 0.0  0.0  0.0  0.0  0.0  0.0  0.0  0.0  0.0  0.0  0.0  0.0  0.0\n",
      " 0.0  0.0  0.0  0.0  0.0  0.0  0.0  1.0  0.0  0.0  1.0  0.0  0.0\n"
     ]
    },
    {
     "data": {
      "text/plain": [
       "2-dimensional DenseAxisArray{Float64,2,...} with index sets:\n",
       "    Dimension 1, Base.OneTo(2)\n",
       "    Dimension 2, 9:21\n",
       "And data, a 2×13 Array{Float64,2}:\n",
       " 0.0  0.0  0.0  0.0  0.0  0.0  0.0  0.0  0.0  0.0  0.0  0.0  0.0\n",
       " 0.0  0.0  0.0  0.0  0.0  0.0  0.0  1.0  0.0  0.0  1.0  0.0  0.0"
      ]
     },
     "execution_count": 23,
     "metadata": {},
     "output_type": "execute_result"
    }
   ],
   "source": [
    "@show JuMP.value.(w_qual3[:,:])"
   ]
  },
  {
   "cell_type": "code",
   "execution_count": 24,
   "metadata": {},
   "outputs": [
    {
     "ename": "ErrorException",
     "evalue": "An object of name m_tf is already attached to this model. If this is intended, consider using the anonymous construction syntax, e.g., x = @variable(model, [1:N], ...) where the name of the object does not appear inside the macro.",
     "output_type": "error",
     "traceback": [
      "An object of name m_tf is already attached to this model. If this is intended, consider using the anonymous construction syntax, e.g., x = @variable(model, [1:N], ...) where the name of the object does not appear inside the macro.",
      "",
      "Stacktrace:",
      " [1] error(::String) at ./error.jl:33",
      " [2] _error_if_cannot_register(::Model, ::Symbol) at /Users/Annika/.julia/packages/JuMP/CZ8vV/src/macros.jl:52",
      " [3] top-level scope at /Users/Annika/.julia/packages/JuMP/CZ8vV/src/macros.jl:75",
      " [4] top-level scope at In[24]:1"
     ]
    }
   ],
   "source": [
    "# TEAMS FINALS\n",
    "@variable(o, m_tf[4:5, 9:21], Bin)\n",
    "@variable(o, w_tf[4:5, 9:21], Bin)\n",
    "\n",
    "#team finals constraints\n",
    "# men and women on different days\n",
    "@variable(o, x, Bin)\n",
    "@constraint(o, sum(m_tf[4, :]) == 2*x)\n",
    "@constraint(o, sum(m_tf[5, :]) == 2-(2*x))\n",
    "@constraint(o, sum(w_tf[4, :]) == 2-(2*x))\n",
    "@constraint(o, sum(w_tf[5, :]) == 2*x)\n",
    "\n",
    "#events last 2 consecutive hours \n",
    "finals = [m_tf, w_tf]\n",
    "for event in finals\n",
    "    for h in 10:20\n",
    "        @constraint(o, sum(event[4, h+1] + event[4, h-1]) >= event[4, h])\n",
    "        @constraint(o, sum(event[5, h+1] + event[5, h-1]) >= event[5, h])\n",
    "    end\n",
    "    @constraint(o,event[4,9] <= event[4,10])\n",
    "    @constraint(o,event[4,21] <= event[4,20])\n",
    "    @constraint(o,event[5,9] <= event[5,10])\n",
    "    @constraint(o,event[5,21] <= event[5,20])\n",
    "end\n",
    "\n",
    "`\n",
    "# 2 hr for men\n",
    "@variable(o, t_mt_4[9:20], Bin)     #binary variable denoting the start time of men's team finals on day 4\n",
    "@variable(o, t_mt_5[9:20], Bin)     #binary variable denoting the start time of men's team finals on day 5\n",
    "@constraint(o, sum(t_mt_4[:]) == x) \n",
    "@constraint(o, sum(t_mt_5[:]) == 1-x)\n",
    "#makes sure the hours are consecutive\n",
    "for hour in 9:20\n",
    "    @constraint(o, sum(m_tf[4, hour]+ m_tf[4, hour+1]) == 2*t_mt_4[hour])\n",
    "    @constraint(o, sum(m_tf[5, hour]+ m_tf[5, hour+1]) == 2*t_mt_5[hour])\n",
    "end\n",
    "\n",
    "#2hrs for women\n",
    "@variable(o, t_wt_4[9:20], Bin)     #binary variable denoting the start time of women's team finals on day 4\n",
    "@variable(o, t_wt_5[9:20], Bin)     #binary variable denoting the start time of women's team finals on day 5\n",
    "@constraint(o, sum(t_wt_4[:]) == 1-x) \n",
    "@constraint(o, sum(t_wt_5[:]) == x)\n",
    "#makes sure the hours are consecutive\n",
    "for hour in 9:20\n",
    "    @constraint(o, sum(w_tf[4, hour]+ w_tf[4, hour+1]) == 2*t_wt_4[hour])\n",
    "    @constraint(o, sum(w_tf[5, hour]+ w_tf[5, hour+1]) == 2*t_wt_5[hour])\n",
    "end\n",
    "`"
   ]
  },
  {
   "cell_type": "code",
   "execution_count": 25,
   "metadata": {},
   "outputs": [
    {
     "ename": "MethodError",
     "evalue": "MethodError: no method matching add_to_expression!(::GenericAffExpr{Float64,VariableRef}, ::LinearAlgebra.Adjoint{Float64,Array{Float64,1}}, ::JuMP.Containers.DenseAxisArray{VariableRef,1,Tuple{UnitRange{Int64}},Tuple{Dict{Int64,Int64}}})\nClosest candidates are:\n  add_to_expression!(!Matched::GenericQuadExpr{C,V}, ::C, ::V, !Matched::V) where {C, V} at /Users/Annika/.julia/packages/JuMP/CZ8vV/src/quad_expr.jl:284\n  add_to_expression!(::GenericAffExpr, !Matched::Union{Number, LinearAlgebra.UniformScaling}) at /Users/Annika/.julia/packages/JuMP/CZ8vV/src/aff_expr.jl:231\n  add_to_expression!(::GenericAffExpr{C,V}, !Matched::GenericAffExpr{C,V}) where {C, V} at /Users/Annika/.julia/packages/JuMP/CZ8vV/src/aff_expr.jl:243\n  ...",
     "output_type": "error",
     "traceback": [
      "MethodError: no method matching add_to_expression!(::GenericAffExpr{Float64,VariableRef}, ::LinearAlgebra.Adjoint{Float64,Array{Float64,1}}, ::JuMP.Containers.DenseAxisArray{VariableRef,1,Tuple{UnitRange{Int64}},Tuple{Dict{Int64,Int64}}})\nClosest candidates are:\n  add_to_expression!(!Matched::GenericQuadExpr{C,V}, ::C, ::V, !Matched::V) where {C, V} at /Users/Annika/.julia/packages/JuMP/CZ8vV/src/quad_expr.jl:284\n  add_to_expression!(::GenericAffExpr, !Matched::Union{Number, LinearAlgebra.UniformScaling}) at /Users/Annika/.julia/packages/JuMP/CZ8vV/src/aff_expr.jl:231\n  add_to_expression!(::GenericAffExpr{C,V}, !Matched::GenericAffExpr{C,V}) where {C, V} at /Users/Annika/.julia/packages/JuMP/CZ8vV/src/aff_expr.jl:243\n  ...",
      "",
      "Stacktrace:",
      " [1] mutable_operate!(::typeof(MutableArithmetics.add_mul), ::GenericAffExpr{Float64,VariableRef}, ::LinearAlgebra.Adjoint{Float64,Array{Float64,1}}, ::JuMP.Containers.DenseAxisArray{VariableRef,1,Tuple{UnitRange{Int64}},Tuple{Dict{Int64,Int64}}}) at /Users/Annika/.julia/packages/JuMP/CZ8vV/src/mutable_arithmetics.jl:137",
      " [2] operate_fallback!(::MutableArithmetics.IsMutable, ::Function, ::GenericAffExpr{Float64,VariableRef}, ::LinearAlgebra.Adjoint{Float64,Array{Float64,1}}, ::JuMP.Containers.DenseAxisArray{VariableRef,1,Tuple{UnitRange{Int64}},Tuple{Dict{Int64,Int64}}}) at /Users/Annika/.julia/packages/MutableArithmetics/ZGFsK/src/interface.jl:278",
      " [3] operate!(::typeof(MutableArithmetics.add_mul), ::GenericAffExpr{Float64,VariableRef}, ::LinearAlgebra.Adjoint{Float64,Array{Float64,1}}, ::JuMP.Containers.DenseAxisArray{VariableRef,1,Tuple{UnitRange{Int64}},Tuple{Dict{Int64,Int64}}}) at /Users/Annika/.julia/packages/MutableArithmetics/ZGFsK/src/rewrite.jl:70",
      " [4] top-level scope at /Users/Annika/.julia/packages/MutableArithmetics/ZGFsK/src/rewrite.jl:227",
      " [5] top-level scope at /Users/Annika/.julia/packages/JuMP/CZ8vV/src/macros.jl:746",
      " [6] top-level scope at In[25]:1"
     ]
    }
   ],
   "source": [
    "#only optimize teams finals(for testing purposes)\n",
    "@objective(o, Max ,v'*m_tf[4,:]+v'*m_tf[5,:]+v'*w_tf[4,:]+v'*w_tf[5,:])"
   ]
  },
  {
   "cell_type": "code",
   "execution_count": 26,
   "metadata": {},
   "outputs": [
    {
     "name": "stdout",
     "output_type": "stream",
     "text": [
      "0.0\n",
      "0.0\n",
      "0.0\n",
      "0.0\n",
      "0.0\n",
      "0.0\n",
      "0.0\n",
      "0.0\n",
      "0.0\n",
      "0.0\n",
      "0.0\n",
      "0.0\n",
      "0.0\n",
      "Welcome to the CBC MILP Solver \n",
      "Version: 2.10.3 \n",
      "Build Date: Oct  7 2019 \n",
      "\n",
      "command line - Cbc_C_Interface -solve -quit (default strategy 1)\n",
      "Continuous objective value is 9037.2 - 0.00 seconds\n",
      "Cbc0006I The LP relaxation is infeasible or too expensive\n",
      "Cbc0045I Solution of -9037.2 already found by heuristic\n",
      "Cuts at root node changed objective from 1.79769e+308 to -1.79769e+308\n",
      "Probing was tried 0 times and created 0 cuts of which 0 were active after adding rounds of cuts (0.000 seconds)\n",
      "Gomory was tried 0 times and created 0 cuts of which 0 were active after adding rounds of cuts (0.000 seconds)\n",
      "Knapsack was tried 0 times and created 0 cuts of which 0 were active after adding rounds of cuts (0.000 seconds)\n",
      "Clique was tried 0 times and created 0 cuts of which 0 were active after adding rounds of cuts (0.000 seconds)\n",
      "MixedIntegerRounding2 was tried 0 times and created 0 cuts of which 0 were active after adding rounds of cuts (0.000 seconds)\n",
      "FlowCover was tried 0 times and created 0 cuts of which 0 were active after adding rounds of cuts (0.000 seconds)\n",
      "TwoMirCuts was tried 0 times and created 0 cuts of which 0 were active after adding rounds of cuts (0.000 seconds)\n",
      "ZeroHalf was tried 0 times and created 0 cuts of which 0 were active after adding rounds of cuts (0.000 seconds)\n",
      "\n",
      "Result - Optimal solution found\n",
      "\n",
      "Objective value:                9037.20000000\n",
      "Enumerated nodes:               0\n",
      "Total iterations:               0\n",
      "Time (CPU seconds):             0.00\n",
      "Time (Wallclock seconds):       0.00\n",
      "\n",
      "Total time (CPU seconds):       0.00   (Wallclock seconds):       0.00\n",
      "\n"
     ]
    }
   ],
   "source": [
    "optimize!(o)\n",
    "\n",
    "for i in 9:21\n",
    "    println(JuMP.value(w_tf[5, i]))\n",
    "end"
   ]
  },
  {
   "cell_type": "code",
   "execution_count": 29,
   "metadata": {},
   "outputs": [
    {
     "ename": "ErrorException",
     "evalue": "An object of name m_ar is already attached to this model. If this is intended, consider using the anonymous construction syntax, e.g., x = @variable(model, [1:N], ...) where the name of the object does not appear inside the macro.",
     "output_type": "error",
     "traceback": [
      "An object of name m_ar is already attached to this model. If this is intended, consider using the anonymous construction syntax, e.g., x = @variable(model, [1:N], ...) where the name of the object does not appear inside the macro.",
      "",
      "Stacktrace:",
      " [1] error(::String) at ./error.jl:33",
      " [2] _error_if_cannot_register(::Model, ::Symbol) at /Users/Annika/.julia/packages/JuMP/CZ8vV/src/macros.jl:52",
      " [3] top-level scope at /Users/Annika/.julia/packages/JuMP/CZ8vV/src/macros.jl:75",
      " [4] top-level scope at In[29]:1"
     ]
    }
   ],
   "source": [
    "# INDIVIDUAL ALL AROUND\n",
    "@variable(o, m_ar[6:7, 9:21], Bin)\n",
    "@variable(o, w_ar[6:7, 9:21], Bin)\n",
    "\n",
    "# men and women on different days\n",
    "@variable(o, d, Bin)\n",
    "@constraint(o, sum(m_ar[6, :]) == 2*d)\n",
    "@constraint(o, sum(m_ar[7, :]) == 2-(2*d))\n",
    "@constraint(o, sum(w_ar[6, :]) == 2-(2*d))\n",
    "@constraint(o, sum(w_ar[7, :]) == 2*d)\n",
    "\n",
    "#can we make \n",
    "ar = [m_ar, w_ar]\n",
    "for event in ar\n",
    "    for h in 10:20\n",
    "        @constraint(o, sum(event[6, h+1] + event[6, h-1]) >= event[6, h])\n",
    "        @constraint(o, sum(event[7, h+1] + event[7, h-1]) >= event[7, h])\n",
    "    end\n",
    "    @constraint(o,event[6,9] <= event[6,10])\n",
    "    @constraint(o,event[6,21] <= event[6,20])\n",
    "    @constraint(o,event[7,9] <= event[7,10])\n",
    "    @constraint(o,event[7,21] <= event[7,20])\n",
    "end\n",
    "\n",
    "\n",
    "`\n",
    "# individual constraints\n",
    "#2 hrs for women\n",
    "@variable(o, t_war_6[9:20], Bin)   #binary variable denoting the start time of women's ind. all around on day 6\n",
    "@variable(o, t_war_7[9:20], Bin)   #binary variable denoting the start time of women's ind. all around on day 7\n",
    "@constraint(o, sum(t_war_6[:]) == 1-d)\n",
    "@constraint(o, sum(t_war_7[:]) == d)\n",
    "#make sure the hours are two in a row\n",
    "for hour in 9:20\n",
    "    @constraint(o, sum(w_ar[6, hour]+ w_ar[6, hour+ 1]) == 2*t_war_6[hour])\n",
    "    @constraint(o, sum(w_ar[7, hour]+ w_ar[7, hour+ 1]) == 2*t_war_7[hour])\n",
    "end\n",
    "                \n",
    "#3hrs for men\n",
    "@variable(o, t_mar_6[9:20], Bin)   #binary variable denoting the start time of men's ind. all around on day 6\n",
    "@variable(o, t_mar_7[9:20], Bin)   #binary variable denoting the start time of men's ind. all around on day 7\n",
    "@constraint(o, sum(t_mar_6[:]) == d)\n",
    "@constraint(o, sum(t_mar_7[:]) == 1-d)\n",
    "#make sure the 3 hours are in a row\n",
    "for hour in 9:19\n",
    "    @constraint(o, sum(m_ar[6, hour]+ m_ar[6, hour+ 1] + m_ar[6, hour+2]) == 3*t_mar_6[hour])\n",
    "    @constraint(o, sum(m_ar[7, hour]+ m_ar[7, hour+ 1] + m_ar[7, hour+2]) == 3*t_mar_7[hour])\n",
    "end\n",
    "`"
   ]
  },
  {
   "cell_type": "code",
   "execution_count": null,
   "metadata": {},
   "outputs": [],
   "source": [
    "objec = v'*m_ar[6,:]+v'*m_ar[7,:]+v'*w_ar[6,:]+v'*w_ar[7,:]\n",
    "@objective(o, Max, objec)"
   ]
  },
  {
   "cell_type": "code",
   "execution_count": null,
   "metadata": {},
   "outputs": [],
   "source": [
    "optimize!(o)\n",
    "\n",
    "for i in 9:21\n",
    "    println(JuMP.value(w_ar[7,i]))\n",
    "end"
   ]
  },
  {
   "cell_type": "code",
   "execution_count": null,
   "metadata": {},
   "outputs": [],
   "source": [
    "# specific events\n",
    "@variable(o, m_floor[9:11, 9:21], Bin)      # mens floor\n",
    "@variable(o, m_vault[9:11, 9:21], Bin)      # mens vault\n",
    "@variable(o, m_pb[9:11, 9:21], Bin)         # mens parallel bars\n",
    "@variable(o, m_pommel[9:11, 9:21], Bin)     # mens pommel horse\n",
    "@variable(o, m_rings[9:11, 9:21], Bin)      # mens rings\n",
    "@variable(o, m_horizontal[9:11, 9:21], Bin) #mens horizontal bar\n",
    "@variable(o, w_floor[9:11, 9:21], Bin)      # womens floor\n",
    "@variable(o, w_vault[9:11, 9:21], Bin)      # womens vault\n",
    "@variable(o, w_ub[9:11, 9:21], Bin)         # womens uneven bars\n",
    "@variable(o, w_b[9:11, 9:21], Bin)          # womens beam\n",
    "\n",
    "\n",
    "@constraint(o, sum(m_floor[9,i]+m_vault[9,i]+m_pb[9,i]+m_pommel[9,i]+m_rings[9,i]+m_horizontal[9,i]+ w_floor[9,i]+w_vault[9,i]+w_ub[9,i]+ w_b[9,i] for i in 9:21) >=3)\n",
    "@constraint(o, sum(m_floor[9,i]+m_vault[9,i]+m_pb[9,i]+m_pommel[9,i]+m_rings[9,i]+m_horizontal[9,i]+ w_floor[9,i]+w_vault[9,i]+w_ub[9,i]+ w_b[9,i] for i in 9:21) <=4)\n",
    "\n",
    "@constraint(o, sum(m_floor[10,i]+m_vault[10,i]+m_pb[10,i]+m_pommel[10,i]+m_rings[10,i]+m_horizontal[10,i]+ w_floor[10,i]+w_vault[10,i]+w_ub[10,i]+ w_b[10,i] for i in 9:21) >=3)\n",
    "@constraint(o, sum(m_floor[10,i]+m_vault[10,i]+m_pb[10,i]+m_pommel[10,i]+m_rings[10,i]+m_horizontal[10,i]+ w_floor[10,i]+w_vault[10,i]+w_ub[10,i]+ w_b[10,i] for i in 9:21) <=4)\n",
    "\n",
    "@constraint(o, sum(m_floor[11,i]+m_vault[11,i]+m_pb[11,i]+m_pommel[11,i]+m_rings[11,i]+m_horizontal[11,i]+ w_floor[11,i]+w_vault[11,i]+w_ub[11,i]+ w_b[11,i] for i in 9:21) >=3)\n",
    "@constraint(o, sum(m_floor[11,i]+m_vault[11,i]+m_pb[11,i]+m_pommel[11,i]+m_rings[11,i]+m_horizontal[11,i]+ w_floor[11,i]+w_vault[11,i]+w_ub[11,i]+ w_b[11,i] for i in 9:21) <=4)\n",
    "\n",
    "\n",
    "#at most two specific events can happen in an hour\n",
    "#for each day of specific events, the sum of events in an hour cannot be more than 2\n",
    "for i = 9:21\n",
    "    @constraint(o, (m_floor[9,i]+m_vault[9,i]+m_pb[9,i]+m_pommel[9,i]+m_horizontal[9,i]+ w_floor[9,i]+w_vault[9,i]+w_ub[9,i]+ w_b[9,i]) <=2)\n",
    "end\n",
    "\n",
    "for i = 9:21\n",
    "    @constraint(o, (m_floor[10,i]+m_vault[10,i]+m_pb[10,i]+m_pommel[10,i]+m_horizontal[10,i]+ w_floor[10,i]+w_vault[10,i]+w_ub[10,i]+ w_b[10,i]) <=2)\n",
    "end\n",
    "\n",
    "for i = 9:21\n",
    "    @constraint(o, (m_floor[11,i]+m_vault[11,i]+m_pb[11,i]+m_pommel[11,i]+m_horizontal[11,i]+ w_floor[11,i]+w_vault[11,i]+w_ub[11,i]+ w_b[11,i]) <=2)\n",
    "    end\n",
    "\n",
    "#if womens floor is happening, mens floor cannot be happening (there is only one floor)\n",
    "for i = 9:11\n",
    "    for j = 9:21\n",
    "        @constraint(o, (m_floor[i,j]+ w_floor[i,j] <=1))\n",
    "    end\n",
    "end\n",
    "\n",
    "#women's and men's events cannot be at the same time\n",
    "for day in 9:11\n",
    "    for hour in 9:21\n",
    "        @constraint(o, sum(w_floor[day, hour]+ w_vault[day, hour] + w_ub[day, hour] + w_b[day, hour]) <= 1)\n",
    "        @constraint(o, sum(m_floor[day, hour]+ m_vault[day, hour] + m_pommel[day, hour] + m_horizontal[day, hour] + m_pb[day, hour] + m_rings[day, hour]) <= 1)\n",
    "    end\n",
    "end\n"
   ]
  },
  {
   "cell_type": "code",
   "execution_count": null,
   "metadata": {},
   "outputs": [],
   "source": [
    "`\n",
    "#add up viewers at possible times of events to get objective to be maximized\n",
    "#mens qual\n",
    "objec = v'*(m_qual1[1,:])+v'*(m_qual1[2,:])+ v'*(m_qual2[1,:])+v'*(m_qual2[2,:])+ v'*(m_qual3[1,:])+v'*(m_qual3[2,:])\n",
    "#womens qual\n",
    "objec = objec + v'*(w_qual1[1,:])+v'*(w_qual1[2,:])+ v'*(w_qual2[1,:])+v'*(w_qual2[2,:])+ v'*(w_qual3[1,:])+v'*(w_qual3[2,:])\n",
    "#team finals\n",
    "objec = objec +v'*m_tf[4,:]+v'*m_tf[5,:]+v'*w_tf[4,:]+v'*w_tf[5,:]\n",
    "#indiv all around\n",
    "objec = objec +v'*m_ar[6,:]+v'*m_ar[7,:]+v'*w_ar[6,:]+v'*w_ar[7,:]\n",
    "`\n",
    "#specific events\n",
    "#always a day of rest before finals (day 8)\n",
    "objec = sum(v'*m_floor[i,:] for i in 9:11)\n",
    "objec = objec +sum(v'*m_vault[i,:] for i in 9:11)\n",
    "objec = objec +sum(v'*m_pb[i,:] for i in 9:11)\n",
    "objec = objec +sum(v'*m_pommel[i,:] for i in 9:11)\n",
    "objec = objec +sum(v'*m_horizontal[i,:] for i in 9:11)\n",
    "objec = objec +sum(v'*m_rings[i,:] for i in 9:11)\n",
    "objec = objec +sum(v'*w_floor[i,:] for i in 9:11)\n",
    "objec = objec +sum(v'*w_vault[i,:] for i in 9:11)\n",
    "objec = objec +sum(v'*w_ub[i,:] for i in 9:11)\n",
    "objec = objec +sum(v'*w_b[i,:] for i in 9:11)\n",
    "\n",
    "\n",
    "#objective\n",
    "\n",
    "@objective(o, Max,  objec)\n",
    "\n",
    "\n",
    "#take a look at our model\n",
    "#o\n",
    "\n",
    "optimize!(o)"
   ]
  },
  {
   "cell_type": "code",
   "execution_count": null,
   "metadata": {},
   "outputs": [],
   "source": []
  },
  {
   "cell_type": "code",
   "execution_count": null,
   "metadata": {},
   "outputs": [],
   "source": []
  }
 ],
 "metadata": {
  "@webio": {
   "lastCommId": null,
   "lastKernelId": null
  },
  "kernelspec": {
   "display_name": "Julia 1.3.1",
   "language": "julia",
   "name": "julia-1.3"
  },
  "language_info": {
   "file_extension": ".jl",
   "mimetype": "application/julia",
   "name": "julia",
   "version": "1.3.1"
  }
 },
 "nbformat": 4,
 "nbformat_minor": 2
}
