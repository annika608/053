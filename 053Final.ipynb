{
 "cells": [
  {
   "cell_type": "code",
   "execution_count": null,
   "metadata": {},
   "outputs": [],
   "source": [
    "@variable(m, m_floor[d=9:11, t=9:21])  # mens floor\n",
    "@variable(m, m_v[d=9:11, t=9:21]) # mens \n",
    "@variable(m, m_pb[d=9:11, t=9:21])\n",
    "@variable(m, m_ph[d=9:11, t=9:21])\n",
    "@variable(m, m_r[d=9:11, t=9:21])\n",
    "@variable(m, m_hb[d=9:11, t=9:21])\n",
    "@variable(m, w_f[d=9:11, t=9:21])\n",
    "@variable(m, w_v[d=9:11, t=9:21])\n",
    "@variable(m, w_ub[d=9:11, t=9:21])\n",
    "@variable(m, w_b[d=9:11, t=9:21])\n"
   ]
  }
 ],
 "metadata": {
  "kernelspec": {
   "display_name": "Julia 1.3.1",
   "language": "julia",
   "name": "julia-1.3"
  },
  "language_info": {
   "file_extension": ".jl",
   "mimetype": "application/julia",
   "name": "julia",
   "version": "1.3.1"
  }
 },
 "nbformat": 4,
 "nbformat_minor": 2
}
